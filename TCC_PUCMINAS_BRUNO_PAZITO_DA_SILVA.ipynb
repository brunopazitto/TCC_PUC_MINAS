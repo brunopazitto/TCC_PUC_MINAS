{
  "nbformat": 4,
  "nbformat_minor": 0,
  "metadata": {
    "colab": {
      "name": "TCC_PUCMINAS_BRUNO_PAZITO_DA_SILVA",
      "provenance": [],
      "collapsed_sections": [],
      "toc_visible": true,
      "authorship_tag": "ABX9TyPu5DelmC+PBC/qXDtQI8ec",
      "include_colab_link": true
    },
    "kernelspec": {
      "display_name": "Python 3",
      "name": "python3"
    }
  },
  "cells": [
    {
      "cell_type": "markdown",
      "metadata": {
        "id": "view-in-github",
        "colab_type": "text"
      },
      "source": [
        "<a href=\"https://colab.research.google.com/github/brunopazitto/TCC_PUC_MINAS/blob/main/TCC_PUCMINAS_BRUNO_PAZITO_DA_SILVA.ipynb\" target=\"_parent\"><img src=\"https://colab.research.google.com/assets/colab-badge.svg\" alt=\"Open In Colab\"/></a>"
      ]
    },
    {
      "cell_type": "markdown",
      "metadata": {
        "id": "ti5-o_9AuyuL"
      },
      "source": [
        "**PUC Minas - Pontificia Universidade Católica de Minas Gerais**\n",
        "\n",
        "Pós-Graduação em Ciência de Dados e Big Data\n",
        "\n",
        "**TRABALHO DE CONCLUSÃO DE CURSO**\n",
        "\n",
        "Análise preditiva - Machine Learning para tomada de decisão na evasão escolar\n",
        "\n",
        "Bruno Pazito da Silva\n"
      ]
    },
    {
      "cell_type": "code",
      "metadata": {
        "id": "AmtPVu8X7jm0"
      },
      "source": [
        "#Etapa destinada a importação das bibliotecas que serão utilizadas durante o desenvolvimento do projeto\n",
        "#Bibliotecas para trabalharmos com DataFrame\n",
        "import pandas as pd \n",
        "import numpy as np\n",
        "import seaborn as sab\n",
        "import matplotlib.pyplot as plt\n",
        "from pandas_profiling import ProfileReport\n",
        "from sklearn.model_selection import train_test_split\n",
        "from sklearn.svm import SVC\n",
        "from sklearn.ensemble import RandomForestClassifier\n",
        "from sklearn.neighbors import KNeighborsClassifier\n",
        "from sklearn.metrics import confusion_matrix, accuracy_score, classification_report, roc_auc_score, roc_curve, auc\n",
        "from sklearn import metrics"
      ],
      "execution_count": null,
      "outputs": []
    },
    {
      "cell_type": "code",
      "metadata": {
        "colab": {
          "base_uri": "https://localhost:8080/"
        },
        "id": "4TmG9mWk77SX",
        "outputId": "7f39ccb2-f96a-4c17-9806-5cdc448d153b"
      },
      "source": [
        "#aquisição dos dados\n",
        "#Liberadndo o acesso aos arquivos no Gdrive\n",
        "from google.colab import drive\n",
        "drive.mount('/content/gdrive/', force_remount=True)"
      ],
      "execution_count": null,
      "outputs": [
        {
          "output_type": "stream",
          "text": [
            "Mounted at /content/gdrive/\n"
          ],
          "name": "stdout"
        }
      ]
    },
    {
      "cell_type": "markdown",
      "metadata": {
        "id": "MhcDJqT0ZICu"
      },
      "source": [
        "#importação dos arquivos csv para as variáveis"
      ]
    },
    {
      "cell_type": "code",
      "metadata": {
        "id": "crFtlw79OlA8"
      },
      "source": [
        "#Foi necessário utilizar um encondig para os dataset df1,df2,df3,df5 e df6 devido a caracteres especial que não está no padrão ASCII UTF-8 e low_memory pra evitar de especificar o tipo de dado da coluna\n",
        "df1 = pd.read_csv('/content/gdrive/MyDrive/TCC/DataSets/ia_01.csv',sep=';',encoding=\"ISO-8859-1\",low_memory=False)\n",
        "df2 = pd.read_csv('/content/gdrive/MyDrive/TCC/DataSets/ia_04.csv',sep=';',encoding=\"ISO-8859-1\",low_memory=False)\n",
        "df3 = pd.read_csv('/content/gdrive/MyDrive/TCC/DataSets/ia_06.csv',sep=';',encoding=\"ISO-8859-1\",low_memory=False)\n",
        "df4 = pd.read_csv('/content/gdrive/MyDrive/TCC/DataSets/ia_07.csv',sep=';',low_memory=False)\n",
        "df5 = pd.read_csv('/content/gdrive/MyDrive/TCC/DataSets/ia_08.csv',sep=';',encoding=\"ISO-8859-1\",low_memory=False)\n",
        "df6 = pd.read_csv('/content/gdrive/MyDrive/TCC/DataSets/ia_09.csv',sep=';',encoding=\"ISO-8859-1\")"
      ],
      "execution_count": null,
      "outputs": []
    },
    {
      "cell_type": "code",
      "metadata": {
        "colab": {
          "base_uri": "https://localhost:8080/"
        },
        "id": "zkaGnJIotbn6",
        "outputId": "2be143e3-f171-481d-ea4c-2b214fb74096"
      },
      "source": [
        "#Visualizando quantidade de resgistro em cada DS\n",
        "print('Quandidate de linhas e colunas do DF1 - ia_01.csv', df1.shape)\n",
        "print('Quandidate de linhas e colunas do DF2 - ia_04.csv', df2.shape)\n",
        "print('Quandidate de linhas e colunas do DF3 - ia_06.csv', df3.shape)\n",
        "print('Quandidate de linhas e colunas do DF4 - ia_07.csv', df4.shape)\n",
        "print('Quandidate de linhas e colunas do DF5 - ia_08.csv', df5.shape)\n",
        "print('Quandidate de linhas e colunas do DF6 - ia_09.csv', df6.shapeu)"
      ],
      "execution_count": null,
      "outputs": [
        {
          "output_type": "stream",
          "text": [
            "Quandidate de linhas e colunas do DF1 - ia_01.csv (11754, 15)\n",
            "Quandidate de linhas e colunas do DF2 - ia_04.csv (22323, 9)\n",
            "Quandidate de linhas e colunas do DF3 - ia_06.csv (147910, 9)\n",
            "Quandidate de linhas e colunas do DF4 - ia_07.csv (24138, 4)\n",
            "Quandidate de linhas e colunas do DF5 - ia_08.csv (396543, 7)\n",
            "Quandidate de linhas e colunas do DF6 - ia_09.csv (212946, 5)\n"
          ],
          "name": "stdout"
        }
      ]
    },
    {
      "cell_type": "markdown",
      "metadata": {
        "id": "spYfoBzbyb6I"
      },
      "source": [
        "#ETAPA DE TRATAMENTO DOS DADOS\n",
        "Nesta etapa irei realizar o tratamento dos DS individualmente, onde irei remover as colunas que não serão utilizadas e as conversões para cada tipo de dados"
      ]
    },
    {
      "cell_type": "code",
      "metadata": {
        "id": "Yo9pUpymvcQf"
      },
      "source": [
        "#Renomenando o identificador da coluna RA no DF2 pois o pandas não reconheceu o nome da coluna.\n",
        "df2.rename(columns={'ï»¿ID_ALUNO':'ID_ALUNO'}, inplace = True)"
      ],
      "execution_count": null,
      "outputs": []
    },
    {
      "cell_type": "code",
      "metadata": {
        "id": "xXG_B4Fbw0js"
      },
      "source": [
        "#Realizando a exclusão das colunas que não serão utilizadas no projeto.\n",
        "df1.drop(columns=['CEP','PONTOSVESTIBULAR','DTNASCIMENTO'],inplace=True)\n",
        "df4.drop(columns=['ABERTURA','FECHAMENTO'],inplace=True)\n",
        "df5.drop(columns=['datahora','status','pesquisa','assunto','subassunto'],inplace=True)\n",
        "df6.drop(columns=['CODIGO','TIPO'],inplace=True)\n",
        "#coluna criada para ser realizada o agrupamento dos valores atráves do RA.\n",
        "df6['CORRIGE'] = df6['ID_ALUNO']"
      ],
      "execution_count": null,
      "outputs": []
    },
    {
      "cell_type": "code",
      "metadata": {
        "colab": {
          "base_uri": "https://localhost:8080/"
        },
        "id": "hluJFPrD4PlI",
        "outputId": "ba06fdbb-a42e-4632-8cbd-639efdf95243"
      },
      "source": [
        "df3.info()"
      ],
      "execution_count": null,
      "outputs": [
        {
          "output_type": "stream",
          "text": [
            "<class 'pandas.core.frame.DataFrame'>\n",
            "RangeIndex: 147910 entries, 0 to 147909\n",
            "Data columns (total 9 columns):\n",
            " #   Column      Non-Null Count   Dtype  \n",
            "---  ------      --------------   -----  \n",
            " 0   ID_ALUNO    147910 non-null  int64  \n",
            " 1   ID_CURSO    147910 non-null  int64  \n",
            " 2   PERIODO     147910 non-null  object \n",
            " 3   DISCIPLINA  147910 non-null  object \n",
            " 4   STATUS      147910 non-null  object \n",
            " 5   SEMESTRE    147910 non-null  object \n",
            " 6   NOTA        147910 non-null  float64\n",
            " 7   CH          147910 non-null  int64  \n",
            " 8   CODIGO      147910 non-null  int64  \n",
            "dtypes: float64(1), int64(4), object(4)\n",
            "memory usage: 10.2+ MB\n"
          ],
          "name": "stdout"
        }
      ]
    },
    {
      "cell_type": "code",
      "metadata": {
        "id": "hQ5LdUvzxOoh"
      },
      "source": [
        "#Nesta etapa de manipulação dos dados foi realizado, agrupamentos de colunas, exclusão e renomeação.\n",
        "df1['ESTADO_CIVIL'].fillna('Não informado', inplace=True)\n",
        "df3_0 = df3.groupby(['ID_ALUNO','ID_CURSO','SEMESTRE']) ['CH'].sum().reset_index()\n",
        "df3_1 = df3.groupby(['ID_ALUNO','ID_CURSO','SEMESTRE']) ['NOTA'].mean().reset_index()\n",
        "df3 = pd.merge(df3_0,df3_1,how='left',left_on=['ID_ALUNO','ID_CURSO','SEMESTRE'],right_on=['ID_ALUNO','ID_CURSO','SEMESTRE'])\n",
        "df3.rename(columns={'NOTA':'MEDIA_NOTA'}, inplace = True)\n",
        "df4.rename(columns={'CODATENDIMENTO':'QTD_ATENDIMENTOS'}, inplace = True)\n",
        "df4 = df4.groupby(['ID_ALUNO']) ['QTD_ATENDIMENTOS'].count().reset_index()\n",
        "df5.rename(columns={'duracao':'DURACAO_TOTAL'}, inplace = True)\n",
        "df5 = df5.groupby(['CODIGO']) ['DURACAO_TOTAL'].sum().reset_index()\n",
        "df6 = df6.groupby(['ID_ALUNO','ID_CURSO','SEMESTRE']) ['CORRIGE'].count().reset_index()\n",
        "df6.drop(columns=['CORRIGE'],inplace=True)"
      ],
      "execution_count": null,
      "outputs": []
    },
    {
      "cell_type": "code",
      "metadata": {
        "id": "IFSDD6i3nJR5"
      },
      "source": [
        "#unificando todos os dataframes\n",
        "mdf1 = pd.merge(df1,df2,how='left',left_on=['ID_ALUNO','ID_CURSO','ULTIMO_SEMESTRE'],right_on=['ID_ALUNO','ID_CURSO','SEMESTRE'])\n",
        "mdf2 = pd.merge(mdf1,df3,how='left',on=['ID_ALUNO','ID_CURSO','SEMESTRE'])\n",
        "mdf3 = pd.merge(mdf2,df4,how='left',on=['ID_ALUNO'])\n",
        "mdf4 = pd.merge(mdf3,df5,how='left',on=['CODIGO'])\n",
        "md = pd.merge(mdf4,df6,how='left',on=['ID_ALUNO','ID_CURSO','SEMESTRE'])"
      ],
      "execution_count": null,
      "outputs": []
    },
    {
      "cell_type": "code",
      "metadata": {
        "colab": {
          "base_uri": "https://localhost:8080/",
          "height": 341
        },
        "id": "I6rRGfWw03ao",
        "outputId": "6bacb5be-d08d-4fef-b345-c32e9a0a296c"
      },
      "source": [
        "md.describe()"
      ],
      "execution_count": null,
      "outputs": [
        {
          "output_type": "execute_result",
          "data": {
            "text/html": [
              "<div>\n",
              "<style scoped>\n",
              "    .dataframe tbody tr th:only-of-type {\n",
              "        vertical-align: middle;\n",
              "    }\n",
              "\n",
              "    .dataframe tbody tr th {\n",
              "        vertical-align: top;\n",
              "    }\n",
              "\n",
              "    .dataframe thead th {\n",
              "        text-align: right;\n",
              "    }\n",
              "</style>\n",
              "<table border=\"1\" class=\"dataframe\">\n",
              "  <thead>\n",
              "    <tr style=\"text-align: right;\">\n",
              "      <th></th>\n",
              "      <th>ID_ALUNO</th>\n",
              "      <th>ID_CURSO</th>\n",
              "      <th>CODIGO</th>\n",
              "      <th>CR</th>\n",
              "      <th>IDADE</th>\n",
              "      <th>DIAS SEM ACESSO PLATAFORMA</th>\n",
              "      <th>TOTAL_ESTUDOS_ORIENTADOS_ANEXADO</th>\n",
              "      <th>TOTAL_MENSGAGENS_CONTATOS_GERAL_PLATAFORMA</th>\n",
              "      <th>TOTAL_PARTICIPACAO_FORUM_AVALIATIVO</th>\n",
              "      <th>TOTAL_PARTICIPACAO_FORUM_FALE_TUTOR</th>\n",
              "      <th>TOTAL_TENTATIVAS_QUIZ</th>\n",
              "      <th>CH</th>\n",
              "      <th>MEDIA_NOTA</th>\n",
              "      <th>QTD_ATENDIMENTOS</th>\n",
              "      <th>DURACAO_TOTAL</th>\n",
              "    </tr>\n",
              "  </thead>\n",
              "  <tbody>\n",
              "    <tr>\n",
              "      <th>count</th>\n",
              "      <td>1.175400e+04</td>\n",
              "      <td>11754.00000</td>\n",
              "      <td>11754.000000</td>\n",
              "      <td>11754.000000</td>\n",
              "      <td>11754.000000</td>\n",
              "      <td>7546.000000</td>\n",
              "      <td>7671.000000</td>\n",
              "      <td>7671.000000</td>\n",
              "      <td>7671.000000</td>\n",
              "      <td>7671.000000</td>\n",
              "      <td>7671.000000</td>\n",
              "      <td>6481.000000</td>\n",
              "      <td>6481.000000</td>\n",
              "      <td>8154.000000</td>\n",
              "      <td>6516.000000</td>\n",
              "    </tr>\n",
              "    <tr>\n",
              "      <th>mean</th>\n",
              "      <td>1.920352e+06</td>\n",
              "      <td>580.74715</td>\n",
              "      <td>301911.133486</td>\n",
              "      <td>3.570317</td>\n",
              "      <td>30.799217</td>\n",
              "      <td>39.490459</td>\n",
              "      <td>1.797549</td>\n",
              "      <td>4.328249</td>\n",
              "      <td>1.967801</td>\n",
              "      <td>0.361622</td>\n",
              "      <td>12.555338</td>\n",
              "      <td>372.002777</td>\n",
              "      <td>7.141318</td>\n",
              "      <td>2.543782</td>\n",
              "      <td>1779.588244</td>\n",
              "    </tr>\n",
              "    <tr>\n",
              "      <th>std</th>\n",
              "      <td>1.105032e+05</td>\n",
              "      <td>186.71798</td>\n",
              "      <td>104269.804830</td>\n",
              "      <td>3.899339</td>\n",
              "      <td>9.000034</td>\n",
              "      <td>46.778439</td>\n",
              "      <td>1.739809</td>\n",
              "      <td>54.823992</td>\n",
              "      <td>2.134922</td>\n",
              "      <td>1.369764</td>\n",
              "      <td>9.357371</td>\n",
              "      <td>245.637180</td>\n",
              "      <td>2.910285</td>\n",
              "      <td>3.109453</td>\n",
              "      <td>3131.368874</td>\n",
              "    </tr>\n",
              "    <tr>\n",
              "      <th>min</th>\n",
              "      <td>8.100660e+05</td>\n",
              "      <td>283.00000</td>\n",
              "      <td>113.000000</td>\n",
              "      <td>0.000000</td>\n",
              "      <td>17.000000</td>\n",
              "      <td>0.000000</td>\n",
              "      <td>0.000000</td>\n",
              "      <td>0.000000</td>\n",
              "      <td>0.000000</td>\n",
              "      <td>0.000000</td>\n",
              "      <td>0.000000</td>\n",
              "      <td>20.000000</td>\n",
              "      <td>0.000000</td>\n",
              "      <td>1.000000</td>\n",
              "      <td>-17.000000</td>\n",
              "    </tr>\n",
              "    <tr>\n",
              "      <th>25%</th>\n",
              "      <td>1.828598e+06</td>\n",
              "      <td>447.00000</td>\n",
              "      <td>308161.250000</td>\n",
              "      <td>0.000000</td>\n",
              "      <td>23.000000</td>\n",
              "      <td>5.000000</td>\n",
              "      <td>0.000000</td>\n",
              "      <td>0.000000</td>\n",
              "      <td>0.000000</td>\n",
              "      <td>0.000000</td>\n",
              "      <td>3.500000</td>\n",
              "      <td>260.000000</td>\n",
              "      <td>6.250000</td>\n",
              "      <td>1.000000</td>\n",
              "      <td>181.000000</td>\n",
              "    </tr>\n",
              "    <tr>\n",
              "      <th>50%</th>\n",
              "      <td>1.921899e+06</td>\n",
              "      <td>546.00000</td>\n",
              "      <td>342868.000000</td>\n",
              "      <td>0.880000</td>\n",
              "      <td>29.000000</td>\n",
              "      <td>17.000000</td>\n",
              "      <td>2.000000</td>\n",
              "      <td>0.000000</td>\n",
              "      <td>2.000000</td>\n",
              "      <td>0.000000</td>\n",
              "      <td>14.000000</td>\n",
              "      <td>320.000000</td>\n",
              "      <td>8.214286</td>\n",
              "      <td>2.000000</td>\n",
              "      <td>712.500000</td>\n",
              "    </tr>\n",
              "    <tr>\n",
              "      <th>75%</th>\n",
              "      <td>2.017388e+06</td>\n",
              "      <td>699.00000</td>\n",
              "      <td>373454.500000</td>\n",
              "      <td>7.920000</td>\n",
              "      <td>36.000000</td>\n",
              "      <td>62.000000</td>\n",
              "      <td>3.000000</td>\n",
              "      <td>0.000000</td>\n",
              "      <td>3.000000</td>\n",
              "      <td>0.000000</td>\n",
              "      <td>19.000000</td>\n",
              "      <td>420.000000</td>\n",
              "      <td>9.200000</td>\n",
              "      <td>3.000000</td>\n",
              "      <td>2019.250000</td>\n",
              "    </tr>\n",
              "    <tr>\n",
              "      <th>max</th>\n",
              "      <td>2.119301e+06</td>\n",
              "      <td>960.00000</td>\n",
              "      <td>397278.000000</td>\n",
              "      <td>10.000000</td>\n",
              "      <td>76.000000</td>\n",
              "      <td>150.000000</td>\n",
              "      <td>23.000000</td>\n",
              "      <td>3261.000000</td>\n",
              "      <td>24.000000</td>\n",
              "      <td>28.000000</td>\n",
              "      <td>130.000000</td>\n",
              "      <td>2620.000000</td>\n",
              "      <td>10.000000</td>\n",
              "      <td>66.000000</td>\n",
              "      <td>71280.000000</td>\n",
              "    </tr>\n",
              "  </tbody>\n",
              "</table>\n",
              "</div>"
            ],
            "text/plain": [
              "           ID_ALUNO     ID_CURSO  ...  QTD_ATENDIMENTOS  DURACAO_TOTAL\n",
              "count  1.175400e+04  11754.00000  ...       8154.000000    6516.000000\n",
              "mean   1.920352e+06    580.74715  ...          2.543782    1779.588244\n",
              "std    1.105032e+05    186.71798  ...          3.109453    3131.368874\n",
              "min    8.100660e+05    283.00000  ...          1.000000     -17.000000\n",
              "25%    1.828598e+06    447.00000  ...          1.000000     181.000000\n",
              "50%    1.921899e+06    546.00000  ...          2.000000     712.500000\n",
              "75%    2.017388e+06    699.00000  ...          3.000000    2019.250000\n",
              "max    2.119301e+06    960.00000  ...         66.000000   71280.000000\n",
              "\n",
              "[8 rows x 15 columns]"
            ]
          },
          "metadata": {
            "tags": []
          },
          "execution_count": 11
        }
      ]
    },
    {
      "cell_type": "code",
      "metadata": {
        "id": "hEhTtxjFn_67"
      },
      "source": [
        "#realizando a exclusão da coluna semestre\n",
        "md.drop(columns=['SEMESTRE'],inplace=True)"
      ],
      "execution_count": null,
      "outputs": []
    },
    {
      "cell_type": "code",
      "metadata": {
        "colab": {
          "base_uri": "https://localhost:8080/"
        },
        "id": "niWxeIttoCZu",
        "outputId": "c245be0c-c9de-453a-a51c-5eb5563ac09a"
      },
      "source": [
        "#Convertendo as colunas para os tipos de dados correto\n",
        "md['DIAS SEM ACESSO PLATAFORMA'] = md['DIAS SEM ACESSO PLATAFORMA'].values.astype(np.int16)\n",
        "md['TOTAL_ESTUDOS_ORIENTADOS_ANEXADO'] = md['TOTAL_ESTUDOS_ORIENTADOS_ANEXADO'].values.astype(np.int16)\n",
        "md['TOTAL_MENSGAGENS_CONTATOS_GERAL_PLATAFORMA'] = md['TOTAL_MENSGAGENS_CONTATOS_GERAL_PLATAFORMA'].values.astype(np.int16)\n",
        "md['TOTAL_PARTICIPACAO_FORUM_AVALIATIVO'] = md['TOTAL_PARTICIPACAO_FORUM_AVALIATIVO'].values.astype(np.int16)\n",
        "md['TOTAL_PARTICIPACAO_FORUM_FALE_TUTOR'] = md['TOTAL_PARTICIPACAO_FORUM_FALE_TUTOR'].values.astype(np.int16)\n",
        "md['TOTAL_TENTATIVAS_QUIZ'] = md['TOTAL_TENTATIVAS_QUIZ'].values.astype(np.int16)\n",
        "md['CH'] = md['CH'].values.astype(np.int16)\n",
        "md['QTD_ATENDIMENTOS'] = md['QTD_ATENDIMENTOS'].values.astype(np.int16)\n",
        "md['MEDIA_NOTA'] = md['MEDIA_NOTA'].values.astype(np.float16)\n",
        "md['DURACAO_TOTAL'] = md['DURACAO_TOTAL'].values.astype(np.int16)\n",
        "md.loc[md.MEDIA_NOTA.isna(),'MEDIA_NOTA'] = md.MEDIA_NOTA.mean()\n",
        "md.info()"
      ],
      "execution_count": null,
      "outputs": [
        {
          "output_type": "stream",
          "text": [
            "<class 'pandas.core.frame.DataFrame'>\n",
            "Int64Index: 11754 entries, 0 to 11753\n",
            "Data columns (total 22 columns):\n",
            " #   Column                                      Non-Null Count  Dtype  \n",
            "---  ------                                      --------------  -----  \n",
            " 0   ID_ALUNO                                    11754 non-null  int64  \n",
            " 1   ID_CURSO                                    11754 non-null  int64  \n",
            " 2   CURSO                                       11754 non-null  object \n",
            " 3   ULTIMO_SEMESTRE                             11754 non-null  object \n",
            " 4   PRIMEIRO_SEMESTRE                           11754 non-null  object \n",
            " 5   TIPO_INGRESSO                               11754 non-null  object \n",
            " 6   CODIGO                                      11754 non-null  int64  \n",
            " 7   CR                                          11754 non-null  float64\n",
            " 8   ESTADO_CIVIL                                11754 non-null  object \n",
            " 9   SITUACAO_PERLET                             11754 non-null  object \n",
            " 10  IDADE                                       11754 non-null  int64  \n",
            " 11  SEXO                                        11754 non-null  object \n",
            " 12  DIAS SEM ACESSO PLATAFORMA                  11754 non-null  int16  \n",
            " 13  TOTAL_ESTUDOS_ORIENTADOS_ANEXADO            11754 non-null  int16  \n",
            " 14  TOTAL_MENSGAGENS_CONTATOS_GERAL_PLATAFORMA  11754 non-null  int16  \n",
            " 15  TOTAL_PARTICIPACAO_FORUM_AVALIATIVO         11754 non-null  int16  \n",
            " 16  TOTAL_PARTICIPACAO_FORUM_FALE_TUTOR         11754 non-null  int16  \n",
            " 17  TOTAL_TENTATIVAS_QUIZ                       11754 non-null  int16  \n",
            " 18  CH                                          11754 non-null  int16  \n",
            " 19  MEDIA_NOTA                                  11754 non-null  float16\n",
            " 20  QTD_ATENDIMENTOS                            11754 non-null  int16  \n",
            " 21  DURACAO_TOTAL                               11754 non-null  int16  \n",
            "dtypes: float16(1), float64(1), int16(9), int64(4), object(7)\n",
            "memory usage: 1.4+ MB\n"
          ],
          "name": "stdout"
        }
      ]
    },
    {
      "cell_type": "code",
      "metadata": {
        "colab": {
          "base_uri": "https://localhost:8080/"
        },
        "id": "OKDA8Bua3BKR",
        "outputId": "af852cb7-8588-4798-e29c-ff7b21ceee9e"
      },
      "source": [
        "#Antes de realizar a conversão para valores numéricos\n",
        "md.SITUACAO_PERLET.unique()"
      ],
      "execution_count": null,
      "outputs": [
        {
          "output_type": "execute_result",
          "data": {
            "text/plain": [
              "array(['Matriculado', 'Abandono de Curso', 'Desistente',\n",
              "       'Calouro Desistente', 'Transferência Externa', 'Trancado',\n",
              "       'Falecido'], dtype=object)"
            ]
          },
          "metadata": {
            "tags": []
          },
          "execution_count": 14
        }
      ]
    },
    {
      "cell_type": "code",
      "metadata": {
        "id": "X9aTpQiQ2dIB"
      },
      "source": [
        "#Convertendo valores categóricos para numéricos\n",
        "\"\"\"md['ULTIMO_SEMESTRE'].replace(\n",
        "    to_replace=['2017/2','2018/1', '2018/2', '2019/1', '2019/2', '2020/1'],\n",
        "    value=0,\n",
        "    inplace=True\n",
        ")\n",
        "md['ULTIMO_SEMESTRE'].replace(\n",
        "    to_replace=['2020/2'],\n",
        "    value=1,\n",
        "    inplace=True\n",
        ")\"\"\"\n",
        "md['SITUACAO_PERLET'].replace(\n",
        "    to_replace=['Abandono de Curso', 'Desistente',\n",
        "       'Calouro Desistente','Transferência Externa',\n",
        "       'Trancado', 'Falecido'],\n",
        "    value=1,\n",
        "    inplace=True\n",
        ")\n",
        "md['SITUACAO_PERLET'].replace(\n",
        "    to_replace=['Matriculado'],\n",
        "    value=0,\n",
        "    inplace=True\n",
        ")"
      ],
      "execution_count": null,
      "outputs": []
    },
    {
      "cell_type": "code",
      "metadata": {
        "colab": {
          "base_uri": "https://localhost:8080/"
        },
        "id": "FAFIAAZ5fCUF",
        "outputId": "8801c77b-187c-4a99-fb59-913aaf12b9f2"
      },
      "source": [
        "#Convertendo o tipo de dados das variáveis que foram transformadas para numéricas\n",
        "md['SITUACAO_PERLET'] = md['SITUACAO_PERLET'].values.astype(np.int16)\n",
        "md.info()"
      ],
      "execution_count": null,
      "outputs": [
        {
          "output_type": "stream",
          "text": [
            "<class 'pandas.core.frame.DataFrame'>\n",
            "Int64Index: 11754 entries, 0 to 11753\n",
            "Data columns (total 22 columns):\n",
            " #   Column                                      Non-Null Count  Dtype  \n",
            "---  ------                                      --------------  -----  \n",
            " 0   ID_ALUNO                                    11754 non-null  int64  \n",
            " 1   ID_CURSO                                    11754 non-null  int64  \n",
            " 2   CURSO                                       11754 non-null  object \n",
            " 3   ULTIMO_SEMESTRE                             11754 non-null  object \n",
            " 4   PRIMEIRO_SEMESTRE                           11754 non-null  object \n",
            " 5   TIPO_INGRESSO                               11754 non-null  object \n",
            " 6   CODIGO                                      11754 non-null  int64  \n",
            " 7   CR                                          11754 non-null  float64\n",
            " 8   ESTADO_CIVIL                                11754 non-null  object \n",
            " 9   SITUACAO_PERLET                             11754 non-null  int16  \n",
            " 10  IDADE                                       11754 non-null  int64  \n",
            " 11  SEXO                                        11754 non-null  object \n",
            " 12  DIAS SEM ACESSO PLATAFORMA                  11754 non-null  int16  \n",
            " 13  TOTAL_ESTUDOS_ORIENTADOS_ANEXADO            11754 non-null  int16  \n",
            " 14  TOTAL_MENSGAGENS_CONTATOS_GERAL_PLATAFORMA  11754 non-null  int16  \n",
            " 15  TOTAL_PARTICIPACAO_FORUM_AVALIATIVO         11754 non-null  int16  \n",
            " 16  TOTAL_PARTICIPACAO_FORUM_FALE_TUTOR         11754 non-null  int16  \n",
            " 17  TOTAL_TENTATIVAS_QUIZ                       11754 non-null  int16  \n",
            " 18  CH                                          11754 non-null  int16  \n",
            " 19  MEDIA_NOTA                                  11754 non-null  float16\n",
            " 20  QTD_ATENDIMENTOS                            11754 non-null  int16  \n",
            " 21  DURACAO_TOTAL                               11754 non-null  int16  \n",
            "dtypes: float16(1), float64(1), int16(10), int64(4), object(6)\n",
            "memory usage: 1.3+ MB\n"
          ],
          "name": "stdout"
        }
      ]
    },
    {
      "cell_type": "code",
      "metadata": {
        "colab": {
          "base_uri": "https://localhost:8080/"
        },
        "id": "ljdHWNTEgSoW",
        "outputId": "af9e0c26-6f6e-45a0-cd82-02d7fa3541be"
      },
      "source": [
        "#Antes conversões\n",
        "md.TIPO_INGRESSO.unique()"
      ],
      "execution_count": null,
      "outputs": [
        {
          "output_type": "execute_result",
          "data": {
            "text/plain": [
              "array(['Novo Curso Superior', 'Processo Seletivo', 'Histórico',\n",
              "       'Transferência', 'Reingresso', 'ENEM', 'Prouni', 'Aluno Especial',\n",
              "       'Encceja', 'Não informado', 'Reabertura de Matrícula',\n",
              "       'Nossa Bolsa'], dtype=object)"
            ]
          },
          "metadata": {
            "tags": []
          },
          "execution_count": 17
        }
      ]
    },
    {
      "cell_type": "code",
      "metadata": {
        "id": "1dOx-3BWgOqz"
      },
      "source": [
        "#Atribuindo valores númericos para as formas de ingresso\n",
        "class_TIPO_INGRESSO = {\n",
        "    'Novo Curso Superior': 0,\n",
        "    'Processo Seletivo': 1,\n",
        "    'Histórico': 2,\n",
        "    'Transferência': 3,\n",
        "    'Reingresso': 4,\n",
        "    'ENEM': 5,\n",
        "    'Prouni': 6,\n",
        "    'Aluno Especial': 7,\n",
        "    'Encceja': 8,\n",
        "    'Não informado': 9,\n",
        "    'Reabertura de Matrícula': 10,\n",
        "    'Nossa Bolsa': 11,   \n",
        "}\n",
        "#mapeamento de colunas da(s) classe(s)\n",
        "md['TIPO_INGRESSO'] = md['TIPO_INGRESSO'].map(class_TIPO_INGRESSO)"
      ],
      "execution_count": null,
      "outputs": []
    },
    {
      "cell_type": "code",
      "metadata": {
        "colab": {
          "base_uri": "https://localhost:8080/"
        },
        "id": "p9qNumzZDUJm",
        "outputId": "14c7b629-2907-432b-8323-d94ee04a041a"
      },
      "source": [
        "#Após conversões\n",
        "md.TIPO_INGRESSO.unique()"
      ],
      "execution_count": null,
      "outputs": [
        {
          "output_type": "execute_result",
          "data": {
            "text/plain": [
              "array([ 0,  1,  2,  3,  4,  5,  6,  7,  8,  9, 10, 11])"
            ]
          },
          "metadata": {
            "tags": []
          },
          "execution_count": 19
        }
      ]
    },
    {
      "cell_type": "code",
      "metadata": {
        "colab": {
          "base_uri": "https://localhost:8080/"
        },
        "id": "WH7NJdVuiIHd",
        "outputId": "8a290269-3a87-4b7e-a797-6b85c0280f52"
      },
      "source": [
        "#Antes conversções\n",
        "md.ESTADO_CIVIL.unique()"
      ],
      "execution_count": null,
      "outputs": [
        {
          "output_type": "execute_result",
          "data": {
            "text/plain": [
              "array(['Casado', 'Solteiro', 'Divorciado', 'Não informado', 'Desquitado',\n",
              "       'Outros', 'União Estável', 'Separado', 'Viúvo'], dtype=object)"
            ]
          },
          "metadata": {
            "tags": []
          },
          "execution_count": 20
        }
      ]
    },
    {
      "cell_type": "code",
      "metadata": {
        "id": "lvXMLNfGirwo"
      },
      "source": [
        "#Atribuindo valores númericos para o Estado Civil\n",
        "class_ESTADO_CIVIL = {\n",
        "    'Casado': 0,\n",
        "    'Solteiro': 1,\n",
        "    'Divorciado': 2,\n",
        "    'Não informado': 3,\n",
        "    'Desquitado': 4,\n",
        "    'Outros': 5,\n",
        "    'União Estável': 6,\n",
        "    'Separado': 7,\n",
        "    'Viúvo': 8,  \n",
        "}\n",
        "#mapeamento de colunas da(s) classe(s)\n",
        "md['ESTADO_CIVIL'] = md['ESTADO_CIVIL'].map(class_ESTADO_CIVIL)"
      ],
      "execution_count": null,
      "outputs": []
    },
    {
      "cell_type": "code",
      "metadata": {
        "colab": {
          "base_uri": "https://localhost:8080/"
        },
        "id": "A16ylzgADfax",
        "outputId": "defb5757-46bb-472d-db8a-84469d337ae7"
      },
      "source": [
        "#Após conversões\n",
        "md.ESTADO_CIVIL.unique()"
      ],
      "execution_count": null,
      "outputs": [
        {
          "output_type": "execute_result",
          "data": {
            "text/plain": [
              "array([0, 1, 2, 3, 4, 5, 6, 7, 8])"
            ]
          },
          "metadata": {
            "tags": []
          },
          "execution_count": 22
        }
      ]
    },
    {
      "cell_type": "code",
      "metadata": {
        "colab": {
          "base_uri": "https://localhost:8080/"
        },
        "id": "OAhk5xE0nmks",
        "outputId": "29178c09-4fe3-41fb-b23a-60e6e9dcb32c"
      },
      "source": [
        "#Antes conversções\n",
        "md.SEXO.unique()"
      ],
      "execution_count": null,
      "outputs": [
        {
          "output_type": "execute_result",
          "data": {
            "text/plain": [
              "array(['F', 'M', 'N'], dtype=object)"
            ]
          },
          "metadata": {
            "tags": []
          },
          "execution_count": 23
        }
      ]
    },
    {
      "cell_type": "code",
      "metadata": {
        "id": "mNETx6EMmfYX"
      },
      "source": [
        "#Atribuindo valores númericos para a variável SEXO\n",
        "class_SEXO = {\n",
        "    'F': 0,\n",
        "    'M': 1,\n",
        "    'N': 2\n",
        "}\n",
        "md['SEXO'] = md['SEXO'].map(class_SEXO)"
      ],
      "execution_count": null,
      "outputs": []
    },
    {
      "cell_type": "code",
      "metadata": {
        "colab": {
          "base_uri": "https://localhost:8080/"
        },
        "id": "FUX6RfYAnj4a",
        "outputId": "9e4cb618-e552-4b91-e9e3-f95d5e01efcb"
      },
      "source": [
        "#Após conversões\n",
        "md.SEXO.unique()"
      ],
      "execution_count": null,
      "outputs": [
        {
          "output_type": "execute_result",
          "data": {
            "text/plain": [
              "array([0, 1, 2])"
            ]
          },
          "metadata": {
            "tags": []
          },
          "execution_count": 25
        }
      ]
    },
    {
      "cell_type": "code",
      "metadata": {
        "colab": {
          "base_uri": "https://localhost:8080/",
          "height": 284
        },
        "id": "mNVjhHnAjeUw",
        "outputId": "04adfa97-ff3e-436a-d454-84c1a17a897b"
      },
      "source": [
        "# Verificando a distribuição dos dados da variável Target (Preditora)\n",
        "sab.set_theme(style=\"darkgrid\")\n",
        "ax = sab.countplot(x=\"SITUACAO_PERLET\",data=md)"
      ],
      "execution_count": null,
      "outputs": [
        {
          "output_type": "display_data",
          "data": {
            "image/png": "[encoded data removed]",
            "text/plain": [
              "<Figure size 432x288 with 1 Axes>"
            ]
          },
          "metadata": {
            "tags": []
          }
        }
      ]
    },
    {
      "cell_type": "code",
      "metadata": {
        "colab": {
          "base_uri": "https://localhost:8080/"
        },
        "id": "IZUS9wPQFoqz",
        "outputId": "6fc62ad7-3d52-4e36-8c19-7c500060c3ed"
      },
      "source": [
        "print('Quandidate de linhas e colunas do DF1 - ia_01.csv', md.shape)"
      ],
      "execution_count": null,
      "outputs": [
        {
          "output_type": "stream",
          "text": [
            "Quandidate de linhas e colunas do DF1 - ia_01.csv (11754, 22)\n"
          ],
          "name": "stdout"
        }
      ]
    },
    {
      "cell_type": "code",
      "metadata": {
        "id": "fHkdTiVMbJbO"
      },
      "source": [
        "#Realziando uma cópia do dataset original\n",
        "md_copy = md.copy()"
      ],
      "execution_count": null,
      "outputs": []
    },
    {
      "cell_type": "code",
      "metadata": {
        "id": "mMVo7VGIluv7"
      },
      "source": [
        "#Realizando a separação dos atributos que serão utizidados no modelo\n",
        "x = md[['TIPO_INGRESSO','CR','ESTADO_CIVIL','IDADE','DIAS SEM ACESSO PLATAFORMA','TOTAL_ESTUDOS_ORIENTADOS_ANEXADO','TOTAL_MENSGAGENS_CONTATOS_GERAL_PLATAFORMA','TOTAL_PARTICIPACAO_FORUM_AVALIATIVO','TOTAL_PARTICIPACAO_FORUM_FALE_TUTOR','TOTAL_TENTATIVAS_QUIZ','MEDIA_NOTA','QTD_ATENDIMENTOS','DURACAO_TOTAL','SEXO']]\n",
        "y = md['SITUACAO_PERLET']"
      ],
      "execution_count": null,
      "outputs": []
    },
    {
      "cell_type": "code",
      "metadata": {
        "colab": {
          "base_uri": "https://localhost:8080/"
        },
        "id": "5K0e1hU7EOgV",
        "outputId": "be05afbe-2e35-4e1a-d534-d62d76806978"
      },
      "source": [
        "y.head()"
      ],
      "execution_count": null,
      "outputs": [
        {
          "output_type": "execute_result",
          "data": {
            "text/plain": [
              "0    0\n",
              "1    0\n",
              "2    0\n",
              "3    1\n",
              "4    1\n",
              "Name: SITUACAO_PERLET, dtype: int16"
            ]
          },
          "metadata": {
            "tags": []
          },
          "execution_count": 33
        }
      ]
    },
    {
      "cell_type": "code",
      "metadata": {
        "colab": {
          "base_uri": "https://localhost:8080/"
        },
        "id": "97bMjagltO7k",
        "outputId": "c7086791-0b20-40e2-a4d2-fe2bbee16a87"
      },
      "source": [
        "md.info()"
      ],
      "execution_count": null,
      "outputs": [
        {
          "output_type": "stream",
          "text": [
            "<class 'pandas.core.frame.DataFrame'>\n",
            "Int64Index: 11754 entries, 0 to 11753\n",
            "Data columns (total 22 columns):\n",
            " #   Column                                      Non-Null Count  Dtype  \n",
            "---  ------                                      --------------  -----  \n",
            " 0   ID_ALUNO                                    11754 non-null  int64  \n",
            " 1   ID_CURSO                                    11754 non-null  int64  \n",
            " 2   CURSO                                       11754 non-null  object \n",
            " 3   ULTIMO_SEMESTRE                             11754 non-null  object \n",
            " 4   PRIMEIRO_SEMESTRE                           11754 non-null  object \n",
            " 5   TIPO_INGRESSO                               11754 non-null  int64  \n",
            " 6   CODIGO                                      11754 non-null  int64  \n",
            " 7   CR                                          11754 non-null  float64\n",
            " 8   ESTADO_CIVIL                                11754 non-null  int64  \n",
            " 9   SITUACAO_PERLET                             11754 non-null  int16  \n",
            " 10  IDADE                                       11754 non-null  int64  \n",
            " 11  SEXO                                        11754 non-null  int64  \n",
            " 12  DIAS SEM ACESSO PLATAFORMA                  11754 non-null  int16  \n",
            " 13  TOTAL_ESTUDOS_ORIENTADOS_ANEXADO            11754 non-null  int16  \n",
            " 14  TOTAL_MENSGAGENS_CONTATOS_GERAL_PLATAFORMA  11754 non-null  int16  \n",
            " 15  TOTAL_PARTICIPACAO_FORUM_AVALIATIVO         11754 non-null  int16  \n",
            " 16  TOTAL_PARTICIPACAO_FORUM_FALE_TUTOR         11754 non-null  int16  \n",
            " 17  TOTAL_TENTATIVAS_QUIZ                       11754 non-null  int16  \n",
            " 18  CH                                          11754 non-null  int16  \n",
            " 19  MEDIA_NOTA                                  11754 non-null  float16\n",
            " 20  QTD_ATENDIMENTOS                            11754 non-null  int16  \n",
            " 21  DURACAO_TOTAL                               11754 non-null  int16  \n",
            "dtypes: float16(1), float64(1), int16(10), int64(7), object(3)\n",
            "memory usage: 1.6+ MB\n"
          ],
          "name": "stdout"
        }
      ]
    },
    {
      "cell_type": "markdown",
      "metadata": {
        "id": "my-B_DRhZvBE"
      },
      "source": [
        "ETAPA DE ANÁLISE EXPLORATÓRIA DOS DADOS"
      ]
    },
    {
      "cell_type": "code",
      "metadata": {
        "id": "PssXDP7D_LRI"
      },
      "source": [
        "#Quantidade de alunos por semestre\n",
        "QTD_REGISTROS = md.groupby(['ULTIMO_SEMESTRE'])['SITUACAO_PERLET'].count().reset_index()\n",
        "QTD_REGISTROS.rename(columns={\"SITUACAO_PERLET\":\"QUANTIDADE\"},inplace=True)"
      ],
      "execution_count": null,
      "outputs": []
    },
    {
      "cell_type": "code",
      "metadata": {
        "colab": {
          "base_uri": "https://localhost:8080/",
          "height": 257
        },
        "id": "vr-3yXkj_cix",
        "outputId": "add4a0bf-9074-4cd5-be90-6e507936088b"
      },
      "source": [
        "#Quantidade de alunos por semestre\n",
        "QTD_REGISTROS.head(10)"
      ],
      "execution_count": null,
      "outputs": [
        {
          "output_type": "execute_result",
          "data": {
            "text/html": [
              "<div>\n",
              "<style scoped>\n",
              "    .dataframe tbody tr th:only-of-type {\n",
              "        vertical-align: middle;\n",
              "    }\n",
              "\n",
              "    .dataframe tbody tr th {\n",
              "        vertical-align: top;\n",
              "    }\n",
              "\n",
              "    .dataframe thead th {\n",
              "        text-align: right;\n",
              "    }\n",
              "</style>\n",
              "<table border=\"1\" class=\"dataframe\">\n",
              "  <thead>\n",
              "    <tr style=\"text-align: right;\">\n",
              "      <th></th>\n",
              "      <th>ULTIMO_SEMESTRE</th>\n",
              "      <th>QUANTIDADE</th>\n",
              "    </tr>\n",
              "  </thead>\n",
              "  <tbody>\n",
              "    <tr>\n",
              "      <th>0</th>\n",
              "      <td>2017/2</td>\n",
              "      <td>42</td>\n",
              "    </tr>\n",
              "    <tr>\n",
              "      <th>1</th>\n",
              "      <td>2018/1</td>\n",
              "      <td>404</td>\n",
              "    </tr>\n",
              "    <tr>\n",
              "      <th>2</th>\n",
              "      <td>2018/2</td>\n",
              "      <td>423</td>\n",
              "    </tr>\n",
              "    <tr>\n",
              "      <th>3</th>\n",
              "      <td>2019/1</td>\n",
              "      <td>827</td>\n",
              "    </tr>\n",
              "    <tr>\n",
              "      <th>4</th>\n",
              "      <td>2019/2</td>\n",
              "      <td>828</td>\n",
              "    </tr>\n",
              "    <tr>\n",
              "      <th>5</th>\n",
              "      <td>2020/1</td>\n",
              "      <td>1512</td>\n",
              "    </tr>\n",
              "    <tr>\n",
              "      <th>6</th>\n",
              "      <td>2020/2</td>\n",
              "      <td>7718</td>\n",
              "    </tr>\n",
              "  </tbody>\n",
              "</table>\n",
              "</div>"
            ],
            "text/plain": [
              "  ULTIMO_SEMESTRE  QUANTIDADE\n",
              "0          2017/2          42\n",
              "1          2018/1         404\n",
              "2          2018/2         423\n",
              "3          2019/1         827\n",
              "4          2019/2         828\n",
              "5          2020/1        1512\n",
              "6          2020/2        7718"
            ]
          },
          "metadata": {
            "tags": []
          },
          "execution_count": 36
        }
      ]
    },
    {
      "cell_type": "code",
      "metadata": {
        "colab": {
          "base_uri": "https://localhost:8080/",
          "height": 293
        },
        "id": "HpNs3_zg_VJP",
        "outputId": "7fb14520-59ad-4dcd-c2f4-3c77ce5fe53a"
      },
      "source": [
        "#Plotando o gráfico com a quantidade de alunos por semestre\n",
        "fig, ax = plt.subplots()\n",
        "#criando o gráfico de barras \n",
        "sab.barplot(x=\"ULTIMO_SEMESTRE\",y='QUANTIDADE', ax=ax, data=QTD_REGISTROS)\n",
        "#otimizar espaço da figure\n",
        "fig.tight_layout();"
      ],
      "execution_count": null,
      "outputs": [
        {
          "output_type": "display_data",
          "data": {
            "image/png": "[encoded data removed]",
            "text/plain": [
              "<Figure size 432x288 with 1 Axes>"
            ]
          },
          "metadata": {
            "tags": []
          }
        }
      ]
    },
    {
      "cell_type": "code",
      "metadata": {
        "id": "DjfNi0SaxNBM"
      },
      "source": [
        "#Quantidade de evadidos por semestre\n",
        "QTD_EVADIDO = md.groupby(['ULTIMO_SEMESTRE'])['SITUACAO_PERLET'].sum().reset_index()\n",
        "QTD_EVADIDO.rename(columns={\"SITUACAO_PERLET\":\"QUANTIDADE\"},inplace=True)"
      ],
      "execution_count": null,
      "outputs": []
    },
    {
      "cell_type": "code",
      "metadata": {
        "colab": {
          "base_uri": "https://localhost:8080/",
          "height": 257
        },
        "id": "_0v8GtdW4rA0",
        "outputId": "09f2c58b-3793-4d11-acb6-e007d411d7ea"
      },
      "source": [
        "#Quantidade de evadidos por semestre\n",
        "QTD_EVADIDO.head(10)"
      ],
      "execution_count": null,
      "outputs": [
        {
          "output_type": "execute_result",
          "data": {
            "text/html": [
              "<div>\n",
              "<style scoped>\n",
              "    .dataframe tbody tr th:only-of-type {\n",
              "        vertical-align: middle;\n",
              "    }\n",
              "\n",
              "    .dataframe tbody tr th {\n",
              "        vertical-align: top;\n",
              "    }\n",
              "\n",
              "    .dataframe thead th {\n",
              "        text-align: right;\n",
              "    }\n",
              "</style>\n",
              "<table border=\"1\" class=\"dataframe\">\n",
              "  <thead>\n",
              "    <tr style=\"text-align: right;\">\n",
              "      <th></th>\n",
              "      <th>ULTIMO_SEMESTRE</th>\n",
              "      <th>QUANTIDADE</th>\n",
              "    </tr>\n",
              "  </thead>\n",
              "  <tbody>\n",
              "    <tr>\n",
              "      <th>0</th>\n",
              "      <td>2017/2</td>\n",
              "      <td>42</td>\n",
              "    </tr>\n",
              "    <tr>\n",
              "      <th>1</th>\n",
              "      <td>2018/1</td>\n",
              "      <td>404</td>\n",
              "    </tr>\n",
              "    <tr>\n",
              "      <th>2</th>\n",
              "      <td>2018/2</td>\n",
              "      <td>423</td>\n",
              "    </tr>\n",
              "    <tr>\n",
              "      <th>3</th>\n",
              "      <td>2019/1</td>\n",
              "      <td>827</td>\n",
              "    </tr>\n",
              "    <tr>\n",
              "      <th>4</th>\n",
              "      <td>2019/2</td>\n",
              "      <td>828</td>\n",
              "    </tr>\n",
              "    <tr>\n",
              "      <th>5</th>\n",
              "      <td>2020/1</td>\n",
              "      <td>1512</td>\n",
              "    </tr>\n",
              "    <tr>\n",
              "      <th>6</th>\n",
              "      <td>2020/2</td>\n",
              "      <td>1663</td>\n",
              "    </tr>\n",
              "  </tbody>\n",
              "</table>\n",
              "</div>"
            ],
            "text/plain": [
              "  ULTIMO_SEMESTRE  QUANTIDADE\n",
              "0          2017/2          42\n",
              "1          2018/1         404\n",
              "2          2018/2         423\n",
              "3          2019/1         827\n",
              "4          2019/2         828\n",
              "5          2020/1        1512\n",
              "6          2020/2        1663"
            ]
          },
          "metadata": {
            "tags": []
          },
          "execution_count": 39
        }
      ]
    },
    {
      "cell_type": "code",
      "metadata": {
        "colab": {
          "base_uri": "https://localhost:8080/",
          "height": 293
        },
        "id": "Xf5h5VZFmdcq",
        "outputId": "002b7249-d458-4209-b043-b7969ebcaa02"
      },
      "source": [
        "#Exemplo 4: Desenhando um gráfico de duas barras:\n",
        "#criando uma figure, axes\n",
        "fig, ax = plt.subplots()\n",
        "#criando o gráfico de barras \n",
        "sab.barplot(x=\"ULTIMO_SEMESTRE\",y='QUANTIDADE', ax=ax, data=QTD_EVADIDO)\n",
        "#otimizar espaço da figure\n",
        "fig.tight_layout();"
      ],
      "execution_count": null,
      "outputs": [
        {
          "output_type": "display_data",
          "data": {
            "image/png": "[encoded data removed]",
            "text/plain": [
              "<Figure size 432x288 with 1 Axes>"
            ]
          },
          "metadata": {
            "tags": []
          }
        }
      ]
    },
    {
      "cell_type": "code",
      "metadata": {
        "id": "uE0M4kqL8PH7"
      },
      "source": [
        "#Quantidade de evadidos por curso\n",
        "QTD_EVAD_CURSO = md.groupby(['CURSO'])['SITUACAO_PERLET'].sum().reset_index()\n",
        "QTD_EVAD_CURSO.rename(columns={\"SITUACAO_PERLET\":\"QUANTIDADE\"},inplace=True)"
      ],
      "execution_count": null,
      "outputs": []
    },
    {
      "cell_type": "code",
      "metadata": {
        "colab": {
          "base_uri": "https://localhost:8080/",
          "height": 737
        },
        "id": "ea9FX7BcB9Vq",
        "outputId": "1f09f8c1-5e64-47c7-df15-d58247b255ba"
      },
      "source": [
        "#Quantidade de evadidos por CURSO\n",
        "QTD_EVAD_CURSO.head(30)"
      ],
      "execution_count": null,
      "outputs": [
        {
          "output_type": "execute_result",
          "data": {
            "text/html": [
              "<div>\n",
              "<style scoped>\n",
              "    .dataframe tbody tr th:only-of-type {\n",
              "        vertical-align: middle;\n",
              "    }\n",
              "\n",
              "    .dataframe tbody tr th {\n",
              "        vertical-align: top;\n",
              "    }\n",
              "\n",
              "    .dataframe thead th {\n",
              "        text-align: right;\n",
              "    }\n",
              "</style>\n",
              "<table border=\"1\" class=\"dataframe\">\n",
              "  <thead>\n",
              "    <tr style=\"text-align: right;\">\n",
              "      <th></th>\n",
              "      <th>CURSO</th>\n",
              "      <th>QUANTIDADE</th>\n",
              "    </tr>\n",
              "  </thead>\n",
              "  <tbody>\n",
              "    <tr>\n",
              "      <th>0</th>\n",
              "      <td>Administração</td>\n",
              "      <td>1143</td>\n",
              "    </tr>\n",
              "    <tr>\n",
              "      <th>1</th>\n",
              "      <td>Agronomia</td>\n",
              "      <td>55</td>\n",
              "    </tr>\n",
              "    <tr>\n",
              "      <th>2</th>\n",
              "      <td>Análise e Desenvolvimento de Sistemas</td>\n",
              "      <td>483</td>\n",
              "    </tr>\n",
              "    <tr>\n",
              "      <th>3</th>\n",
              "      <td>Ciências Biológicas</td>\n",
              "      <td>179</td>\n",
              "    </tr>\n",
              "    <tr>\n",
              "      <th>4</th>\n",
              "      <td>Ciências Contábeis</td>\n",
              "      <td>594</td>\n",
              "    </tr>\n",
              "    <tr>\n",
              "      <th>5</th>\n",
              "      <td>Educação Física (Bacharelado)</td>\n",
              "      <td>44</td>\n",
              "    </tr>\n",
              "    <tr>\n",
              "      <th>6</th>\n",
              "      <td>Educação Física (Licenciatura)</td>\n",
              "      <td>95</td>\n",
              "    </tr>\n",
              "    <tr>\n",
              "      <th>7</th>\n",
              "      <td>Engenharia Civil</td>\n",
              "      <td>23</td>\n",
              "    </tr>\n",
              "    <tr>\n",
              "      <th>8</th>\n",
              "      <td>Engenharia de Produção</td>\n",
              "      <td>142</td>\n",
              "    </tr>\n",
              "    <tr>\n",
              "      <th>9</th>\n",
              "      <td>Formação de Docentes para a Educação Básica</td>\n",
              "      <td>77</td>\n",
              "    </tr>\n",
              "    <tr>\n",
              "      <th>10</th>\n",
              "      <td>Gestão Ambiental</td>\n",
              "      <td>156</td>\n",
              "    </tr>\n",
              "    <tr>\n",
              "      <th>11</th>\n",
              "      <td>Gestão Portuária</td>\n",
              "      <td>15</td>\n",
              "    </tr>\n",
              "    <tr>\n",
              "      <th>12</th>\n",
              "      <td>Gestão Pública</td>\n",
              "      <td>160</td>\n",
              "    </tr>\n",
              "    <tr>\n",
              "      <th>13</th>\n",
              "      <td>Gestão da Tecnologia da Informação</td>\n",
              "      <td>55</td>\n",
              "    </tr>\n",
              "    <tr>\n",
              "      <th>14</th>\n",
              "      <td>Gestão de Recursos Humanos</td>\n",
              "      <td>364</td>\n",
              "    </tr>\n",
              "    <tr>\n",
              "      <th>15</th>\n",
              "      <td>História</td>\n",
              "      <td>144</td>\n",
              "    </tr>\n",
              "    <tr>\n",
              "      <th>16</th>\n",
              "      <td>Letras</td>\n",
              "      <td>130</td>\n",
              "    </tr>\n",
              "    <tr>\n",
              "      <th>17</th>\n",
              "      <td>Logística</td>\n",
              "      <td>191</td>\n",
              "    </tr>\n",
              "    <tr>\n",
              "      <th>18</th>\n",
              "      <td>Marketing</td>\n",
              "      <td>105</td>\n",
              "    </tr>\n",
              "    <tr>\n",
              "      <th>19</th>\n",
              "      <td>Matemática</td>\n",
              "      <td>117</td>\n",
              "    </tr>\n",
              "    <tr>\n",
              "      <th>20</th>\n",
              "      <td>Pedagogia</td>\n",
              "      <td>774</td>\n",
              "    </tr>\n",
              "    <tr>\n",
              "      <th>21</th>\n",
              "      <td>Processos Gerenciais</td>\n",
              "      <td>213</td>\n",
              "    </tr>\n",
              "    <tr>\n",
              "      <th>22</th>\n",
              "      <td>Serviço Social</td>\n",
              "      <td>440</td>\n",
              "    </tr>\n",
              "  </tbody>\n",
              "</table>\n",
              "</div>"
            ],
            "text/plain": [
              "                                          CURSO  QUANTIDADE\n",
              "0                                 Administração        1143\n",
              "1                                     Agronomia          55\n",
              "2        Análise e Desenvolvimento de Sistemas          483\n",
              "3                           Ciências Biológicas         179\n",
              "4                            Ciências Contábeis         594\n",
              "5                 Educação Física (Bacharelado)          44\n",
              "6                Educação Física (Licenciatura)          95\n",
              "7                              Engenharia Civil          23\n",
              "8                        Engenharia de Produção         142\n",
              "9   Formação de Docentes para a Educação Básica          77\n",
              "10                             Gestão Ambiental         156\n",
              "11                             Gestão Portuária          15\n",
              "12                               Gestão Pública         160\n",
              "13           Gestão da Tecnologia da Informação          55\n",
              "14                   Gestão de Recursos Humanos         364\n",
              "15                                     História         144\n",
              "16                                       Letras         130\n",
              "17                                    Logística         191\n",
              "18                                    Marketing         105\n",
              "19                                   Matemática         117\n",
              "20                                    Pedagogia         774\n",
              "21                         Processos Gerenciais         213\n",
              "22                               Serviço Social         440"
            ]
          },
          "metadata": {
            "tags": []
          },
          "execution_count": 42
        }
      ]
    },
    {
      "cell_type": "code",
      "metadata": {
        "id": "ySSJNDuY-OHS"
      },
      "source": [
        "#Quantidade de evadidos por SEXO\n",
        "QTD_EVAD_SEXO = md.groupby(['SEXO'])['SITUACAO_PERLET'].sum().reset_index()\n",
        "QTD_EVAD_SEXO.rename(columns={\"SITUACAO_PERLET\":\"QUANTIDADE\"},inplace=True)"
      ],
      "execution_count": null,
      "outputs": []
    },
    {
      "cell_type": "code",
      "metadata": {
        "colab": {
          "base_uri": "https://localhost:8080/",
          "height": 137
        },
        "id": "pk1j-WJXBjUL",
        "outputId": "bcb41f33-0192-40a6-dc14-4763c0a752f0"
      },
      "source": [
        "#Quantidade de evadidos por SEXO\n",
        "QTD_EVAD_SEXO.head(10)"
      ],
      "execution_count": null,
      "outputs": [
        {
          "output_type": "execute_result",
          "data": {
            "text/html": [
              "<div>\n",
              "<style scoped>\n",
              "    .dataframe tbody tr th:only-of-type {\n",
              "        vertical-align: middle;\n",
              "    }\n",
              "\n",
              "    .dataframe tbody tr th {\n",
              "        vertical-align: top;\n",
              "    }\n",
              "\n",
              "    .dataframe thead th {\n",
              "        text-align: right;\n",
              "    }\n",
              "</style>\n",
              "<table border=\"1\" class=\"dataframe\">\n",
              "  <thead>\n",
              "    <tr style=\"text-align: right;\">\n",
              "      <th></th>\n",
              "      <th>SEXO</th>\n",
              "      <th>QUANTIDADE</th>\n",
              "    </tr>\n",
              "  </thead>\n",
              "  <tbody>\n",
              "    <tr>\n",
              "      <th>0</th>\n",
              "      <td>0</td>\n",
              "      <td>3421</td>\n",
              "    </tr>\n",
              "    <tr>\n",
              "      <th>1</th>\n",
              "      <td>1</td>\n",
              "      <td>2252</td>\n",
              "    </tr>\n",
              "    <tr>\n",
              "      <th>2</th>\n",
              "      <td>2</td>\n",
              "      <td>26</td>\n",
              "    </tr>\n",
              "  </tbody>\n",
              "</table>\n",
              "</div>"
            ],
            "text/plain": [
              "   SEXO  QUANTIDADE\n",
              "0     0        3421\n",
              "1     1        2252\n",
              "2     2          26"
            ]
          },
          "metadata": {
            "tags": []
          },
          "execution_count": 45
        }
      ]
    },
    {
      "cell_type": "code",
      "metadata": {
        "colab": {
          "base_uri": "https://localhost:8080/",
          "height": 213
        },
        "id": "rvJtjlJDRlVq",
        "outputId": "66a49577-6df1-4a02-8bb4-33770704fc46"
      },
      "source": [
        "#Plotando Boxplot para verificar o CR por Curso\n",
        "sab.set(style='whitegrid')\n",
        "plt.figure(figsize=(60,10))\n",
        "plt.title('Coeficiente de rendimento por curso')\n",
        "bx = sab.boxplot(x=md['CURSO'],y=md['CR'], orient='v', fliersize=3, whis=1.5)"
      ],
      "execution_count": null,
      "outputs": [
        {
          "output_type": "display_data",
          "data": {
            "image/png": "[encoded data removed]",
            "text/plain": [
              "<Figure size 4320x720 with 1 Axes>"
            ]
          },
          "metadata": {
            "tags": []
          }
        }
      ]
    },
    {
      "cell_type": "code",
      "metadata": {
        "colab": {
          "base_uri": "https://localhost:8080/",
          "height": 213
        },
        "id": "PTQ9SJAVUn63",
        "outputId": "d6347436-823c-4877-ac1a-b1abdd44315c"
      },
      "source": [
        "#Plotando BoxPlot da idade dos alunos por curso\n",
        "#1Q - 25% 2Q - 50% 3Q -75% \n",
        "sab.set(style='whitegrid')\n",
        "plt.figure(figsize=(60,10))\n",
        "plt.title('Distribuição da Idade Por Curso')\n",
        "bx = sab.boxplot(x=md['CURSO'],y=md['IDADE'], orient='v', fliersize=5, whis=1.5)"
      ],
      "execution_count": null,
      "outputs": [
        {
          "output_type": "display_data",
          "data": {
            "image/png": "[encoded data removed]",
            "text/plain": [
              "<Figure size 4320x720 with 1 Axes>"
            ]
          },
          "metadata": {
            "tags": []
          }
        }
      ]
    },
    {
      "cell_type": "code",
      "metadata": {
        "colab": {
          "base_uri": "https://localhost:8080/",
          "height": 213
        },
        "id": "TI03Zhs2Y5Dr",
        "outputId": "8e1d9ff7-3557-4dec-9619-45b1ffe6f048"
      },
      "source": [
        "#Plotante boxplot quantidade de atendimentos por curso\n",
        "#1Q - 25% 2Q - 50% 3Q -75% \n",
        "sab.set(style='whitegrid')\n",
        "plt.figure(figsize=(60,10))\n",
        "plt.title('Distribuição quantidade de atendimentos abertos por aluno')\n",
        "bx = sab.boxplot(x=md['CURSO'],y=md['QTD_ATENDIMENTOS'], orient='v', fliersize=5, whis=1.5)"
      ],
      "execution_count": null,
      "outputs": [
        {
          "output_type": "display_data",
          "data": {
            "image/png": "[encoded data removed]",
            "text/plain": [
              "<Figure size 4320x720 with 1 Axes>"
            ]
          },
          "metadata": {
            "tags": []
          }
        }
      ]
    },
    {
      "cell_type": "code",
      "metadata": {
        "colab": {
          "base_uri": "https://localhost:8080/",
          "height": 264
        },
        "id": "CN69ZHVWkrFn",
        "outputId": "3fb77952-225d-4a2c-9aba-6d99bd7de755"
      },
      "source": [
        "#Percentual de alunos matriculados e evadidos\n",
        "status = md.SITUACAO_PERLET.value_counts(normalize=True)\n",
        "rotulo = ['Matriculado', 'Evadido']\n",
        "plt.pie(status, labels = rotulo, autopct='%1.1f%%')\n",
        "plt.title('Porcentagem de alunos por status')\n",
        "plt.show()"
      ],
      "execution_count": null,
      "outputs": [
        {
          "output_type": "display_data",
          "data": {
            "image/png": "[encoded data removed]",
            "text/plain": [
              "<Figure size 432x288 with 1 Axes>"
            ]
          },
          "metadata": {
            "tags": []
          }
        }
      ]
    },
    {
      "cell_type": "code",
      "metadata": {
        "colab": {
          "base_uri": "https://localhost:8080/",
          "height": 264
        },
        "id": "avK50CDt2HVt",
        "outputId": "3cfb0a80-e618-43ba-f718-13413f916245"
      },
      "source": [
        "#Percentual de alunos por genero\n",
        "porcentagemSexo = md.SEXO.value_counts(normalize=True)\n",
        "rotulo = ['Feminino', 'Masculino', 'Não informado']\n",
        "plt.pie(porcentagemSexo, labels = rotulo, autopct='%1.1f%%')\n",
        "plt.title('Porcentagem de alunos por genero')\n",
        "plt.show()\n",
        "#md.SEXO.value_counts().plot(kind='pie', autopct='%.2f%%')\n",
        "#plt.axis('equal')  # Para deixar o gráfico redondo"
      ],
      "execution_count": null,
      "outputs": [
        {
          "output_type": "display_data",
          "data": {
            "image/png": "[encoded data removed]",
            "text/plain": [
              "<Figure size 432x288 with 1 Axes>"
            ]
          },
          "metadata": {
            "tags": []
          }
        }
      ]
    },
    {
      "cell_type": "code",
      "metadata": {
        "colab": {
          "base_uri": "https://localhost:8080/",
          "height": 643
        },
        "id": "BtnwM6zReccV",
        "outputId": "9450c407-8912-4421-9be2-c947388a5c44"
      },
      "source": [
        "#Verificando a corelação entre os atríbutos independentes que foram utilizado no modelo\n",
        "correlacao = x.corr()\n",
        "plt.figure(figsize=(20,8))\n",
        "sab.heatmap(correlacao, linewidths=0.5, vmin=-1, vmax=1, annot=True, cmap='YlGnBu', fmt='.1g')\n",
        "plt.show()"
      ],
      "execution_count": null,
      "outputs": [
        {
          "output_type": "display_data",
          "data": {
            "image/png": "[encoded data removed]",
            "text/plain": [
              "<Figure size 1440x576 with 2 Axes>"
            ]
          },
          "metadata": {
            "tags": []
          }
        }
      ]
    },
    {
      "cell_type": "markdown",
      "metadata": {
        "id": "4BXSILhlbr3z"
      },
      "source": [
        "#ETAPA DESTINADA AO TREINAMENTO, ESCOLHA DO MOLDELO DE MACHINE LEARNING E AVALIAÇÃO DOS MODELOS"
      ]
    },
    {
      "cell_type": "code",
      "metadata": {
        "id": "BXH455ZO03Rw"
      },
      "source": [
        "#Inicio treinamento e criação de modelos\n",
        "#Variavel x recebe os atributos explicativos para predição já a variável Y recebe o atributo target(alvo) \n",
        "X_train, x_teste, Y_train, y_teste = train_test_split(x, y, test_size = 0.4, random_state = 42,stratify=y)"
      ],
      "execution_count": null,
      "outputs": []
    },
    {
      "cell_type": "code",
      "metadata": {
        "colab": {
          "base_uri": "https://localhost:8080/"
        },
        "id": "Y2gLShOh6odI",
        "outputId": "cdb173c6-2b32-4f00-df43-e890b690dfab"
      },
      "source": [
        "X_train.shape, Y_train.shape"
      ],
      "execution_count": null,
      "outputs": [
        {
          "output_type": "execute_result",
          "data": {
            "text/plain": [
              "((7052, 14), (7052,))"
            ]
          },
          "metadata": {
            "tags": []
          },
          "execution_count": 56
        }
      ]
    },
    {
      "cell_type": "code",
      "metadata": {
        "colab": {
          "base_uri": "https://localhost:8080/"
        },
        "id": "S3YlOwZPFDZI",
        "outputId": "e0a6ef40-488e-4e7d-bffe-2cbd6dd9917d"
      },
      "source": [
        "tamanho_validar = int(x_teste.shape[0]*0.4)\n",
        "tamanho_validar,x_teste.shape[0]"
      ],
      "execution_count": null,
      "outputs": [
        {
          "output_type": "execute_result",
          "data": {
            "text/plain": [
              "(1880, 4702)"
            ]
          },
          "metadata": {
            "tags": []
          },
          "execution_count": 57
        }
      ]
    },
    {
      "cell_type": "code",
      "metadata": {
        "colab": {
          "base_uri": "https://localhost:8080/"
        },
        "id": "SXiEJBD6GIlu",
        "outputId": "336ad0fb-ab28-4047-c792-033897709720"
      },
      "source": [
        "x_validar = x_teste[:tamanho_validar]\n",
        "x_teste = x_teste[tamanho_validar:]\n",
        "y_validar = y_teste[:tamanho_validar]\n",
        "y_teste = y_teste[tamanho_validar:]\n",
        "x_teste.shape, x_validar.shape, y_teste.shape, y_validar.shape"
      ],
      "execution_count": null,
      "outputs": [
        {
          "output_type": "execute_result",
          "data": {
            "text/plain": [
              "((2822, 14), (1880, 14), (2822,), (1880,))"
            ]
          },
          "metadata": {
            "tags": []
          },
          "execution_count": 58
        }
      ]
    },
    {
      "cell_type": "code",
      "metadata": {
        "colab": {
          "base_uri": "https://localhost:8080/"
        },
        "id": "HGLXRUAuCIr0",
        "outputId": "99f7ca7e-978d-48c7-9175-72c51cc386cd"
      },
      "source": [
        "#Verificando tamanho das variáveis após a divisão entre treino e teste\n",
        "X_train.shape,Y_train.shape"
      ],
      "execution_count": null,
      "outputs": [
        {
          "output_type": "execute_result",
          "data": {
            "text/plain": [
              "((7052, 14), (7052,))"
            ]
          },
          "metadata": {
            "tags": []
          },
          "execution_count": 59
        }
      ]
    },
    {
      "cell_type": "code",
      "metadata": {
        "colab": {
          "base_uri": "https://localhost:8080/"
        },
        "id": "4kBWX9JwW5j9",
        "outputId": "5505694e-ebb5-4477-df13-a3faa20b7090"
      },
      "source": [
        "#Criando Baseline para comparação do modelo\n",
        "baseline_pred = np.random.choice([0,1], size = len(y_teste))\n",
        "print(baseline_pred)"
      ],
      "execution_count": null,
      "outputs": [
        {
          "output_type": "stream",
          "text": [
            "[0 1 1 ... 1 0 0]\n"
          ],
          "name": "stdout"
        }
      ]
    },
    {
      "cell_type": "code",
      "metadata": {
        "colab": {
          "base_uri": "https://localhost:8080/"
        },
        "id": "9QjvEWiFYOfH",
        "outputId": "833461e5-4202-4a1c-f12d-5b73046bcbd7"
      },
      "source": [
        "#Avaliando o Baseline\n",
        "print('Matriz de Confusão\\n', metrics.confusion_matrix(y_teste,baseline_pred))\n",
        "print('\\nAcurácia\\n', metrics.accuracy_score(y_teste, baseline_pred))\n",
        "print('\\nAcurácia Balanceada por Classe\\n', metrics.balanced_accuracy_score(y_teste, baseline_pred))\n",
        "print('\\nPrecision\\n', metrics.precision_score(y_teste, baseline_pred))\n",
        "print('\\nRecall\\n', metrics.recall_score(y_teste, baseline_pred))\n",
        "print('\\nF1\\n', metrics.f1_score(y_teste, baseline_pred))\n",
        "print('\\nAUCROC\\n', metrics.roc_auc_score(y_teste, baseline_pred))\n",
        "print('\\nClassification Report\\n', metrics.classification_report(y_teste, baseline_pred))"
      ],
      "execution_count": null,
      "outputs": [
        {
          "output_type": "stream",
          "text": [
            "Matriz de Confusão\n",
            " [[743 722]\n",
            " [696 661]]\n",
            "\n",
            "Acurácia\n",
            " 0.49751948972360027\n",
            "\n",
            "Acurácia Balanceada por Classe\n",
            " 0.497135570584581\n",
            "\n",
            "Precision\n",
            " 0.4779464931308749\n",
            "\n",
            "Recall\n",
            " 0.4871039056742815\n",
            "\n",
            "F1\n",
            " 0.48248175182481756\n",
            "\n",
            "AUCROC\n",
            " 0.4971355705845811\n",
            "\n",
            "Classification Report\n",
            "               precision    recall  f1-score   support\n",
            "\n",
            "           0       0.52      0.51      0.51      1465\n",
            "           1       0.48      0.49      0.48      1357\n",
            "\n",
            "    accuracy                           0.50      2822\n",
            "   macro avg       0.50      0.50      0.50      2822\n",
            "weighted avg       0.50      0.50      0.50      2822\n",
            "\n"
          ],
          "name": "stdout"
        }
      ]
    },
    {
      "cell_type": "code",
      "metadata": {
        "colab": {
          "base_uri": "https://localhost:8080/",
          "height": 293
        },
        "id": "FDeKqjI6bMxM",
        "outputId": "5c4ef25a-6059-44ca-b196-58139fac9f58"
      },
      "source": [
        "#Criando labels e os valores armazenados nas barras\n",
        "labels = ['Teste_negativos', 'Teste_positives']\n",
        "count_test = [(y_teste == 0).sum(), (y_teste == 1).sum()]\n",
        "count_baseline = [(baseline_pred == 0).sum(), (baseline_pred == 1).sum()]\n",
        "\n",
        "#Criando as barras\n",
        "b = np.arange(len(labels))\n",
        "width = 0.2 #largura da barra\n",
        "\n",
        "#Criando os plots\n",
        "fig, ax = plt.subplots()\n",
        "bar1 = ax.bar(b - width/2, count_test, width, label='Valor Real')\n",
        "bar2 = ax.bar(b + width/2, count_baseline, width, label='Valor Baseline')\n",
        "\n",
        "#dando nome ao gráfico \n",
        "ax.set_ylabel('Intancias')\n",
        "ax.set_title('Real x Baseline')\n",
        "ax.set_xticks(b)\n",
        "ax.set_xticklabels(labels)\n",
        "ax.legend()\n",
        "\n",
        "def autolabel(rects):\n",
        "    for rect in rects:\n",
        "      height = rect.get_height()\n",
        "      ax.annotate('{}'.format(height),\n",
        "          xy=(rect.get_x() + rect.get_width() /2, height),\n",
        "          xytext=(0,3),\n",
        "          textcoords='offset points',\n",
        "          ha='center', va='bottom')\n",
        "      \n",
        "#Plotando o grafico de barras\n",
        "autolabel(bar1)\n",
        "autolabel(bar2)\n",
        "fig.tight_layout()\n",
        "\n",
        "plt.show()\n",
        "                  \n"
      ],
      "execution_count": null,
      "outputs": [
        {
          "output_type": "display_data",
          "data": {
            "image/png": "[encoded data removed]",
            "text/plain": [
              "<Figure size 432x288 with 1 Axes>"
            ]
          },
          "metadata": {
            "tags": []
          }
        }
      ]
    },
    {
      "cell_type": "code",
      "metadata": {
        "colab": {
          "base_uri": "https://localhost:8080/"
        },
        "id": "W3DpoNnXDjjg",
        "outputId": "433cb0ca-eaaa-4a4b-b1c0-afed7a01b845"
      },
      "source": [
        "clasificador_svm = SVC(gamma='auto',kernel='rbf',random_state=1,probability=True)\n",
        "clasificador_svm.fit(X_train, Y_train)"
      ],
      "execution_count": null,
      "outputs": [
        {
          "output_type": "execute_result",
          "data": {
            "text/plain": [
              "SVC(C=1.0, break_ties=False, cache_size=200, class_weight=None, coef0=0.0,\n",
              "    decision_function_shape='ovr', degree=3, gamma='auto', kernel='rbf',\n",
              "    max_iter=-1, probability=True, random_state=1, shrinking=True, tol=0.001,\n",
              "    verbose=False)"
            ]
          },
          "metadata": {
            "tags": []
          },
          "execution_count": 63
        }
      ]
    },
    {
      "cell_type": "code",
      "metadata": {
        "colab": {
          "base_uri": "https://localhost:8080/"
        },
        "id": "cb4pknCWWChT",
        "outputId": "e4548bb6-2a56-4315-c9f8-08a812ef5364"
      },
      "source": [
        "#Prevendo os valores com o modelo\n",
        "pred = clasificador_svm.predict(x_teste)\n",
        "pred"
      ],
      "execution_count": null,
      "outputs": [
        {
          "output_type": "execute_result",
          "data": {
            "text/plain": [
              "array([0, 0, 0, ..., 0, 0, 0], dtype=int16)"
            ]
          },
          "metadata": {
            "tags": []
          },
          "execution_count": 64
        }
      ]
    },
    {
      "cell_type": "code",
      "metadata": {
        "colab": {
          "base_uri": "https://localhost:8080/"
        },
        "id": "ZirIz6DtOUhn",
        "outputId": "3704dc29-8884-41fb-d721-5a6cbf53b76e"
      },
      "source": [
        "print('Matriz de Confusão\\n', metrics.confusion_matrix(y_teste,pred))\n",
        "print('\\nAcurácia\\n', metrics.accuracy_score(y_teste, pred))\n",
        "print('\\nAcurácia Balanceada por Classe\\n', metrics.balanced_accuracy_score(y_teste, pred))\n",
        "print('\\nPrecision\\n', metrics.precision_score(y_teste, pred))\n",
        "print('\\nRecall\\n', metrics.recall_score(y_teste, pred))\n",
        "print('\\nF1\\n', metrics.f1_score(y_teste, pred))\n",
        "print('\\nAUCROC\\n', metrics.roc_auc_score(y_teste, pred))\n",
        "print('\\nClassification Report\\n', metrics.classification_report(y_teste,pred))"
      ],
      "execution_count": null,
      "outputs": [
        {
          "output_type": "stream",
          "text": [
            "Matriz de Confusão\n",
            " [[1431   34]\n",
            " [ 672  685]]\n",
            "\n",
            "Acurácia\n",
            " 0.7498228206945429\n",
            "\n",
            "Acurácia Balanceada por Classe\n",
            " 0.7407908933830649\n",
            "\n",
            "Precision\n",
            " 0.952712100139082\n",
            "\n",
            "Recall\n",
            " 0.5047899778924098\n",
            "\n",
            "F1\n",
            " 0.6599229287090559\n",
            "\n",
            "AUCROC\n",
            " 0.740790893383065\n",
            "\n",
            "Classification Report\n",
            "               precision    recall  f1-score   support\n",
            "\n",
            "           0       0.68      0.98      0.80      1465\n",
            "           1       0.95      0.50      0.66      1357\n",
            "\n",
            "    accuracy                           0.75      2822\n",
            "   macro avg       0.82      0.74      0.73      2822\n",
            "weighted avg       0.81      0.75      0.73      2822\n",
            "\n"
          ],
          "name": "stdout"
        }
      ]
    },
    {
      "cell_type": "code",
      "metadata": {
        "colab": {
          "base_uri": "https://localhost:8080/"
        },
        "id": "V0pZjNgw3jcw",
        "outputId": "d54e4f22-763b-4cba-a93d-9a4c9d176499"
      },
      "source": [
        "clasificador_svm.score(x_teste, y_teste)"
      ],
      "execution_count": null,
      "outputs": [
        {
          "output_type": "execute_result",
          "data": {
            "text/plain": [
              "0.7498228206945429"
            ]
          },
          "metadata": {
            "tags": []
          },
          "execution_count": 66
        }
      ]
    },
    {
      "cell_type": "code",
      "metadata": {
        "colab": {
          "base_uri": "https://localhost:8080/"
        },
        "id": "qd-XOBvK30qs",
        "outputId": "a7110971-1732-40f2-b380-f198412c45c0"
      },
      "source": [
        "clasificador_svm.score(X_train, Y_train)"
      ],
      "execution_count": null,
      "outputs": [
        {
          "output_type": "execute_result",
          "data": {
            "text/plain": [
              "0.996596710153148"
            ]
          },
          "metadata": {
            "tags": []
          },
          "execution_count": 67
        }
      ]
    },
    {
      "cell_type": "code",
      "metadata": {
        "colab": {
          "base_uri": "https://localhost:8080/",
          "height": 318
        },
        "id": "JWMtZ59LWufJ",
        "outputId": "833bba21-8f1f-4a55-b755-813d89d3c029"
      },
      "source": [
        "#Gerando matriz de confusão do modelo SVM com o Seaborn para melhor visualização e entendimento\n",
        "cm = confusion_matrix(y_teste, pred)\n",
        "\n",
        "sab.heatmap(cm, annot=True, cmap='Blues', fmt='g')\n",
        "plt.title('Matriz de Confusão')\n",
        "plt.ylabel('True label')\n",
        "plt.xlabel('Predicted label')"
      ],
      "execution_count": null,
      "outputs": [
        {
          "output_type": "execute_result",
          "data": {
            "text/plain": [
              "Text(0.5, 12.5, 'Predicted label')"
            ]
          },
          "metadata": {
            "tags": []
          },
          "execution_count": 68
        },
        {
          "output_type": "display_data",
          "data": {
            "image/png": "[encoded data removed]",
            "text/plain": [
              "<Figure size 432x288 with 2 Axes>"
            ]
          },
          "metadata": {
            "tags": []
          }
        }
      ]
    },
    {
      "cell_type": "code",
      "metadata": {
        "colab": {
          "base_uri": "https://localhost:8080/",
          "height": 293
        },
        "id": "GAayLHfIFP92",
        "outputId": "93e629ca-cdda-4a27-9e07-fbca248734ad"
      },
      "source": [
        "#Criando labels e os valores armazenados nas barras\n",
        "labels = ['Teste_negativos', 'Teste_positives']\n",
        "count_test = [(pred == 0).sum(), (pred == 1).sum()]\n",
        "count_baseline = [(baseline_pred == 0).sum(), (baseline_pred == 1).sum()]\n",
        "\n",
        "#Criando as barras\n",
        "b1 = np.arange(len(labels))\n",
        "width = 0.2 #largura da barra\n",
        "\n",
        "#Criando os plots\n",
        "fig, ax = plt.subplots()\n",
        "bar3 = ax.bar(b1 - width/2, count_test, width, label='Valor Real')\n",
        "bar4 = ax.bar(b1 + width/2, count_baseline, width, label='Valor SVM')\n",
        "\n",
        "#dando nome ao gráfico \n",
        "ax.set_ylabel('Intancias')\n",
        "ax.set_title('Real x SVM')\n",
        "ax.set_xticks(b1)\n",
        "ax.set_xticklabels(labels)\n",
        "ax.legend()\n",
        "\n",
        "def autolabel(rects):\n",
        "    for rect in rects:\n",
        "      height = rect.get_height()\n",
        "      ax.annotate('{}'.format(height),\n",
        "          xy=(rect.get_x() + rect.get_width() /2, height),\n",
        "          xytext=(0,3),\n",
        "          textcoords='offset points',\n",
        "          ha='center', va='bottom')\n",
        "      \n",
        "#Plotando o grafico de barras\n",
        "autolabel(bar1)\n",
        "autolabel(bar2)\n",
        "fig.tight_layout()\n",
        "\n",
        "plt.show()"
      ],
      "execution_count": null,
      "outputs": [
        {
          "output_type": "display_data",
          "data": {
            "image/png": "[encoded data removed]",
            "text/plain": [
              "<Figure size 432x288 with 1 Axes>"
            ]
          },
          "metadata": {
            "tags": []
          }
        }
      ]
    },
    {
      "cell_type": "code",
      "metadata": {
        "colab": {
          "base_uri": "https://localhost:8080/"
        },
        "id": "NUP1C9r-Hp4i",
        "outputId": "49a06b80-63ea-4aaa-de1e-c78d8642bd7a"
      },
      "source": [
        "#Prevendoa probabilidade de em percentual de cada registro\n",
        "pred = clasificador_svm.predict_proba(x_teste)\n",
        "pred"
      ],
      "execution_count": null,
      "outputs": [
        {
          "output_type": "execute_result",
          "data": {
            "text/plain": [
              "array([[0.61832258, 0.38167742],\n",
              "       [0.99126131, 0.00873869],\n",
              "       [0.66941238, 0.33058762],\n",
              "       ...,\n",
              "       [0.57651073, 0.42348927],\n",
              "       [0.98534957, 0.01465043],\n",
              "       [0.57651073, 0.42348927]])"
            ]
          },
          "metadata": {
            "tags": []
          },
          "execution_count": 70
        }
      ]
    },
    {
      "cell_type": "code",
      "metadata": {
        "id": "To2f1jD4Ycrc"
      },
      "source": [
        "# Atribuindo os valores as variáveis para plotar o gráfico da Curva ROC\n",
        "fp, tp, thresholds = roc_curve(y_teste, pred[:, 1])"
      ],
      "execution_count": null,
      "outputs": []
    },
    {
      "cell_type": "code",
      "metadata": {
        "colab": {
          "base_uri": "https://localhost:8080/",
          "height": 318
        },
        "id": "reX0Cgm4YiXS",
        "outputId": "ab8cebad-83e7-42e9-f8e6-f62734dce7e7"
      },
      "source": [
        "# Gerando a Curva ROC\n",
        "plt.plot(fp, tp)\n",
        "\n",
        "plt.plot([0, 1], [0, 1], '--')\n",
        "plt.xlim([0.0, 1.0])\n",
        "plt.ylim([0.0, 1.0])\n",
        "\n",
        "plt.xlabel('Falso Positivo')\n",
        "plt.ylabel('Verdadeiro Positivo')\n",
        "plt.title('Curva ROC')"
      ],
      "execution_count": null,
      "outputs": [
        {
          "output_type": "execute_result",
          "data": {
            "text/plain": [
              "Text(0.5, 1.0, 'Curva ROC')"
            ]
          },
          "metadata": {
            "tags": []
          },
          "execution_count": 72
        },
        {
          "output_type": "display_data",
          "data": {
            "image/png": "[encoded data removed]",
            "text/plain": [
              "<Figure size 432x288 with 1 Axes>"
            ]
          },
          "metadata": {
            "tags": []
          }
        }
      ]
    },
    {
      "cell_type": "code",
      "metadata": {
        "colab": {
          "base_uri": "https://localhost:8080/"
        },
        "id": "-eZX_9jrY4rG",
        "outputId": "81745756-1e0f-46ee-e286-6baa15d8ff03"
      },
      "source": [
        "# Área sob a curva ROC\n",
        "auc(fp, tp)"
      ],
      "execution_count": null,
      "outputs": [
        {
          "output_type": "execute_result",
          "data": {
            "text/plain": [
              "0.9269380610209733"
            ]
          },
          "metadata": {
            "tags": []
          },
          "execution_count": 73
        }
      ]
    },
    {
      "cell_type": "code",
      "metadata": {
        "colab": {
          "base_uri": "https://localhost:8080/"
        },
        "id": "FnWdYZA74M37",
        "outputId": "6aa795d2-3d26-42ad-ebb2-fa75351f45af"
      },
      "source": [
        "resultado = np.where(pred >= 0.551, 1, 0).astype(int).reshape(-1)\n",
        "resultado"
      ],
      "execution_count": null,
      "outputs": [
        {
          "output_type": "execute_result",
          "data": {
            "text/plain": [
              "array([1, 0, 1, ..., 0, 1, 0])"
            ]
          },
          "metadata": {
            "tags": []
          },
          "execution_count": 74
        }
      ]
    },
    {
      "cell_type": "code",
      "metadata": {
        "id": "Urd_TamuhDVS"
      },
      "source": [
        "# treinando o modelo \n",
        "classifier = RandomForestClassifier(n_estimators= 10, random_state=42).fit(X_train, Y_train);"
      ],
      "execution_count": null,
      "outputs": []
    },
    {
      "cell_type": "code",
      "metadata": {
        "colab": {
          "base_uri": "https://localhost:8080/",
          "height": 347
        },
        "id": "-gNdvSiohkDQ",
        "outputId": "162212e5-938a-4013-872f-46d95f10dc03"
      },
      "source": [
        "# aplicando o modelo treinado para a previsão do resultado do teste\n",
        "predictions3_labels = classifier.predict(x_teste)\n",
        "\n",
        "# Exibindo dataframe com valores 10 reais e suas respectivas previsões\n",
        "p = pd.DataFrame({'Real': y_teste, 'Previsto': predictions3_labels})  \n",
        "p.head(10)"
      ],
      "execution_count": null,
      "outputs": [
        {
          "output_type": "execute_result",
          "data": {
            "text/html": [
              "<div>\n",
              "<style scoped>\n",
              "    .dataframe tbody tr th:only-of-type {\n",
              "        vertical-align: middle;\n",
              "    }\n",
              "\n",
              "    .dataframe tbody tr th {\n",
              "        vertical-align: top;\n",
              "    }\n",
              "\n",
              "    .dataframe thead th {\n",
              "        text-align: right;\n",
              "    }\n",
              "</style>\n",
              "<table border=\"1\" class=\"dataframe\">\n",
              "  <thead>\n",
              "    <tr style=\"text-align: right;\">\n",
              "      <th></th>\n",
              "      <th>Real</th>\n",
              "      <th>Previsto</th>\n",
              "    </tr>\n",
              "  </thead>\n",
              "  <tbody>\n",
              "    <tr>\n",
              "      <th>3481</th>\n",
              "      <td>0</td>\n",
              "      <td>0</td>\n",
              "    </tr>\n",
              "    <tr>\n",
              "      <th>8481</th>\n",
              "      <td>0</td>\n",
              "      <td>0</td>\n",
              "    </tr>\n",
              "    <tr>\n",
              "      <th>6320</th>\n",
              "      <td>1</td>\n",
              "      <td>1</td>\n",
              "    </tr>\n",
              "    <tr>\n",
              "      <th>4453</th>\n",
              "      <td>1</td>\n",
              "      <td>1</td>\n",
              "    </tr>\n",
              "    <tr>\n",
              "      <th>6646</th>\n",
              "      <td>0</td>\n",
              "      <td>0</td>\n",
              "    </tr>\n",
              "    <tr>\n",
              "      <th>8376</th>\n",
              "      <td>0</td>\n",
              "      <td>0</td>\n",
              "    </tr>\n",
              "    <tr>\n",
              "      <th>6487</th>\n",
              "      <td>0</td>\n",
              "      <td>0</td>\n",
              "    </tr>\n",
              "    <tr>\n",
              "      <th>9318</th>\n",
              "      <td>0</td>\n",
              "      <td>0</td>\n",
              "    </tr>\n",
              "    <tr>\n",
              "      <th>4898</th>\n",
              "      <td>1</td>\n",
              "      <td>1</td>\n",
              "    </tr>\n",
              "    <tr>\n",
              "      <th>6292</th>\n",
              "      <td>0</td>\n",
              "      <td>0</td>\n",
              "    </tr>\n",
              "  </tbody>\n",
              "</table>\n",
              "</div>"
            ],
            "text/plain": [
              "      Real  Previsto\n",
              "3481     0         0\n",
              "8481     0         0\n",
              "6320     1         1\n",
              "4453     1         1\n",
              "6646     0         0\n",
              "8376     0         0\n",
              "6487     0         0\n",
              "9318     0         0\n",
              "4898     1         1\n",
              "6292     0         0"
            ]
          },
          "metadata": {
            "tags": []
          },
          "execution_count": 76
        }
      ]
    },
    {
      "cell_type": "code",
      "metadata": {
        "colab": {
          "base_uri": "https://localhost:8080/"
        },
        "id": "YNCPixaOhn6v",
        "outputId": "d5a50b10-add3-4d25-c2c3-0cf0cf193505"
      },
      "source": [
        "#avaliando o modelo\n",
        "print('Matriz de Confusão\\n', metrics.confusion_matrix(y_teste, predictions3_labels)) \n",
        "print('\\nAcurácia\\n', metrics.accuracy_score(y_teste, predictions3_labels)) \n",
        "print('\\nAcurácia Balanceada por classe\\n', metrics.balanced_accuracy_score(y_teste, predictions3_labels)) \n",
        "print('\\nPrecision\\n', metrics.precision_score(y_teste, predictions3_labels)) \n",
        "print('\\nRecall\\n', metrics.recall_score(y_teste, predictions3_labels)) \n",
        "print('\\nF1\\n', metrics.f1_score(y_teste, predictions3_labels)) \n",
        "print('\\nAUCROC\\n', metrics.roc_auc_score(y_teste, predictions3_labels))\n",
        "print('\\nClassification Report\\n', metrics.classification_report(y_teste, predictions3_labels)) "
      ],
      "execution_count": null,
      "outputs": [
        {
          "output_type": "stream",
          "text": [
            "Matriz de Confusão\n",
            " [[1413   52]\n",
            " [  64 1293]]\n",
            "\n",
            "Acurácia\n",
            " 0.9588944011339475\n",
            "\n",
            "Acurácia Balanceada por classe\n",
            " 0.9586711301027915\n",
            "\n",
            "Precision\n",
            " 0.9613382899628253\n",
            "\n",
            "Recall\n",
            " 0.952837140751658\n",
            "\n",
            "F1\n",
            " 0.9570688378978535\n",
            "\n",
            "AUCROC\n",
            " 0.9586711301027915\n",
            "\n",
            "Classification Report\n",
            "               precision    recall  f1-score   support\n",
            "\n",
            "           0       0.96      0.96      0.96      1465\n",
            "           1       0.96      0.95      0.96      1357\n",
            "\n",
            "    accuracy                           0.96      2822\n",
            "   macro avg       0.96      0.96      0.96      2822\n",
            "weighted avg       0.96      0.96      0.96      2822\n",
            "\n"
          ],
          "name": "stdout"
        }
      ]
    },
    {
      "cell_type": "code",
      "metadata": {
        "colab": {
          "base_uri": "https://localhost:8080/",
          "height": 318
        },
        "id": "_yPOwZZQT9Rl",
        "outputId": "fd6ad46c-2992-4bd0-f053-b7ec48b3ca0b"
      },
      "source": [
        "#Gerando matriz de confusão do modelo RandomForestClassifier com o Seaborn para melhor visualização e entendimento\n",
        "cm = confusion_matrix(y_teste, predictions3_labels)\n",
        "\n",
        "sab.heatmap(cm, annot=True, cmap='Blues', fmt='g')\n",
        "plt.title('Matriz de Confusão')\n",
        "plt.ylabel('True label')\n",
        "plt.xlabel('Predicted label')"
      ],
      "execution_count": null,
      "outputs": [
        {
          "output_type": "execute_result",
          "data": {
            "text/plain": [
              "Text(0.5, 12.5, 'Predicted label')"
            ]
          },
          "metadata": {
            "tags": []
          },
          "execution_count": 78
        },
        {
          "output_type": "display_data",
          "data": {
            "image/png": "[encoded data removed]",
            "text/plain": [
              "<Figure size 432x288 with 2 Axes>"
            ]
          },
          "metadata": {
            "tags": []
          }
        }
      ]
    },
    {
      "cell_type": "code",
      "metadata": {
        "colab": {
          "base_uri": "https://localhost:8080/"
        },
        "id": "hvHhL5cx2UWO",
        "outputId": "f2a292eb-d747-4668-8b79-09dcec84fbc7"
      },
      "source": [
        "#Verificando o score do modelo de arvore de decisão para detectar Overfitting\n",
        "classifier.score(x_teste, y_teste)"
      ],
      "execution_count": null,
      "outputs": [
        {
          "output_type": "execute_result",
          "data": {
            "text/plain": [
              "0.9588944011339475"
            ]
          },
          "metadata": {
            "tags": []
          },
          "execution_count": 79
        }
      ]
    },
    {
      "cell_type": "code",
      "metadata": {
        "colab": {
          "base_uri": "https://localhost:8080/"
        },
        "id": "2fflwL7_25HS",
        "outputId": "799b561f-eb75-4184-cb3e-9e37562fd6a6"
      },
      "source": [
        "classifier.score(X_train, Y_train)"
      ],
      "execution_count": null,
      "outputs": [
        {
          "output_type": "execute_result",
          "data": {
            "text/plain": [
              "0.9956040839478162"
            ]
          },
          "metadata": {
            "tags": []
          },
          "execution_count": 80
        }
      ]
    },
    {
      "cell_type": "code",
      "metadata": {
        "colab": {
          "base_uri": "https://localhost:8080/"
        },
        "id": "taiCOYev2tgH",
        "outputId": "c7ae837c-0061-4ff6-804e-47d376ef822d"
      },
      "source": [
        "classifier.feature_importances_"
      ],
      "execution_count": null,
      "outputs": [
        {
          "output_type": "execute_result",
          "data": {
            "text/plain": [
              "array([0.01664119, 0.03004552, 0.01134617, 0.02058229, 0.37895938,\n",
              "       0.01685016, 0.03653858, 0.11110357, 0.0038185 , 0.15426445,\n",
              "       0.14273037, 0.05266155, 0.01954661, 0.00491165])"
            ]
          },
          "metadata": {
            "tags": []
          },
          "execution_count": 81
        }
      ]
    },
    {
      "cell_type": "code",
      "metadata": {
        "colab": {
          "base_uri": "https://localhost:8080/",
          "height": 302
        },
        "id": "f7_2_1f73I9F",
        "outputId": "d8bea97f-9fb0-4251-e94f-87e2d858e899"
      },
      "source": [
        "#Verificando a importância de cada Feature no modelo\n",
        "importances = pd.Series(data=classifier.feature_importances_,index=x.columns)\n",
        "sab.barplot(x=importances, y=importances.index, orient='h').set_title('Importância de cada feature')"
      ],
      "execution_count": null,
      "outputs": [
        {
          "output_type": "execute_result",
          "data": {
            "text/plain": [
              "Text(0.5, 1.0, 'Importância de cada feature')"
            ]
          },
          "metadata": {
            "tags": []
          },
          "execution_count": 82
        },
        {
          "output_type": "display_data",
          "data": {
            "image/png": "[encoded data removed]",
            "text/plain": [
              "<Figure size 432x288 with 1 Axes>"
            ]
          },
          "metadata": {
            "tags": []
          }
        }
      ]
    },
    {
      "cell_type": "code",
      "metadata": {
        "colab": {
          "base_uri": "https://localhost:8080/"
        },
        "id": "dAfhcM6QF-O4",
        "outputId": "160c00bd-55a7-478b-a795-d798d83d8161"
      },
      "source": [
        "#Aplicando modelo KNN\n",
        "classify_knn = KNeighborsClassifier().fit(X_train, Y_train);\n",
        "classify_knn.fit(X_train, Y_train)\n",
        "#result_knn = classify_knn.predict(B_train)\n",
        "predict_knn = classify_knn.predict(x_teste)\n",
        "predict_knn_proba = classify_knn.predict_proba(x_teste)\n",
        "r_score_knn = accuracy_score(y_teste,predict_knn)\n",
        "w_score_knn = 1 - r_score_knn\n",
        "print(\"KNN Performance\\n\\n\",classification_report(y_teste,predict_knn))\n",
        "print(\"\\nError\\n\\n\",w_score_knn) #erro é confrontado com a acurácia"
      ],
      "execution_count": null,
      "outputs": [
        {
          "output_type": "stream",
          "text": [
            "KNN Performance\n",
            "\n",
            "               precision    recall  f1-score   support\n",
            "\n",
            "           0       0.87      0.86      0.87      1465\n",
            "           1       0.85      0.86      0.86      1357\n",
            "\n",
            "    accuracy                           0.86      2822\n",
            "   macro avg       0.86      0.86      0.86      2822\n",
            "weighted avg       0.86      0.86      0.86      2822\n",
            "\n",
            "\n",
            "Error\n",
            "\n",
            " 0.13961729270021261\n"
          ],
          "name": "stdout"
        }
      ]
    },
    {
      "cell_type": "code",
      "metadata": {
        "colab": {
          "base_uri": "https://localhost:8080/",
          "height": 318
        },
        "id": "AdqNnlAxHE2s",
        "outputId": "d070bce6-81f4-4e6c-b2b1-d876886fbe0d"
      },
      "source": [
        "confusionmtx_knn = confusion_matrix(y_teste,predict_knn) \n",
        "sab.heatmap(confusionmtx_knn, annot=True, cmap='Blues', fmt='g')\n",
        "plt.title('Confusion matrix KNN')\n",
        "plt.ylabel('True label')\n",
        "plt.xlabel('Predicted label')"
      ],
      "execution_count": null,
      "outputs": [
        {
          "output_type": "execute_result",
          "data": {
            "text/plain": [
              "Text(0.5, 12.5, 'Predicted label')"
            ]
          },
          "metadata": {
            "tags": []
          },
          "execution_count": 84
        },
        {
          "output_type": "display_data",
          "data": {
            "image/png": "[encoded data removed]",
            "text/plain": [
              "<Figure size 432x288 with 2 Axes>"
            ]
          },
          "metadata": {
            "tags": []
          }
        }
      ]
    },
    {
      "cell_type": "code",
      "metadata": {
        "colab": {
          "base_uri": "https://localhost:8080/",
          "height": 354
        },
        "id": "ThqaHhyBHYwa",
        "outputId": "a1c2d134-3008-4a58-b5a3-1579c3d88ce3"
      },
      "source": [
        "fknn,tknn,thresholdsknn= roc_curve(y_teste,predict_knn_proba[:,1])\n",
        "plt.plot(fknn,tknn)\n",
        "plt.plot([0,1],[0,1],'-')\n",
        "plt.xlim([0.0,1.0])\n",
        "plt.ylim([0.0,1.0])\n",
        "plt.xlabel('False positive')\n",
        "plt.ylabel('True positive')\n",
        "plt.title('ROC KNN')\n",
        "print('Área da curva:',auc(fknn,tknn))\n",
        "print('\\nRepresentação da curva ROC')"
      ],
      "execution_count": null,
      "outputs": [
        {
          "output_type": "stream",
          "text": [
            "Área da curva: 0.9266465627601541\n",
            "\n",
            "Representação da curva ROC\n"
          ],
          "name": "stdout"
        },
        {
          "output_type": "display_data",
          "data": {
            "image/png": "[encoded data removed]",
            "text/plain": [
              "<Figure size 432x288 with 1 Axes>"
            ]
          },
          "metadata": {
            "tags": []
          }
        }
      ]
    },
    {
      "cell_type": "code",
      "metadata": {
        "colab": {
          "base_uri": "https://localhost:8080/",
          "height": 293
        },
        "id": "EPRs8-VLHk8c",
        "outputId": "4bf9e956-f07b-42b9-b4a7-5d1b12d06f4a"
      },
      "source": [
        "#Criando labels e os valores armazenados nas barras\n",
        "labels = ['Teste_negativos', 'Teste_positives']\n",
        "count_test = [(predict_knn == 0).sum(), (predict_knn == 1).sum()]\n",
        "count_baseline = [(baseline_pred == 0).sum(), (baseline_pred == 1).sum()]\n",
        "\n",
        "#Criando as barras\n",
        "b2 = np.arange(len(labels))\n",
        "width = 0.2 #largura da barra\n",
        "\n",
        "#Criando os plots\n",
        "fig, ax = plt.subplots()\n",
        "bar5 = ax.bar(b1 - width/2, count_test, width, label='Valor Real')\n",
        "bar6 = ax.bar(b1 + width/2, count_baseline, width, label='Valor KNN')\n",
        "\n",
        "#dando nome ao gráfico \n",
        "ax.set_ylabel('Intancias')\n",
        "ax.set_title('Real x KNN')\n",
        "ax.set_xticks(b1)\n",
        "ax.set_xticklabels(labels)\n",
        "ax.legend()\n",
        "\n",
        "def autolabel(rects):\n",
        "    for rect in rects:\n",
        "      height = rect.get_height()\n",
        "      ax.annotate('{}'.format(height),\n",
        "          xy=(rect.get_x() + rect.get_width() /2, height),\n",
        "          xytext=(0,3),\n",
        "          textcoords='offset points',\n",
        "          ha='center', va='bottom')\n",
        "      \n",
        "#Plotando o grafico de barras\n",
        "autolabel(bar1)\n",
        "autolabel(bar2)\n",
        "fig.tight_layout()\n",
        "\n",
        "plt.show()"
      ],
      "execution_count": null,
      "outputs": [
        {
          "output_type": "display_data",
          "data": {
            "image/png": "[encoded data removed]",
            "text/plain": [
              "<Figure size 432x288 with 1 Axes>"
            ]
          },
          "metadata": {
            "tags": []
          }
        }
      ]
    },
    {
      "cell_type": "markdown",
      "metadata": {
        "id": "B5-5-bhJcdhg"
      },
      "source": [
        "#GERANDO A PROBABILIDADE PARA OS ALUNOS INDIVIDUALMENTE DA BASE ORIGINAL"
      ]
    },
    {
      "cell_type": "code",
      "metadata": {
        "colab": {
          "base_uri": "https://localhost:8080/",
          "height": 284
        },
        "id": "-fxJxByqStnR",
        "outputId": "5bc5b26e-594f-4b64-b6f9-eba6d83bdbc0"
      },
      "source": [
        "validador = md\n",
        "validador.head()"
      ],
      "execution_count": null,
      "outputs": [
        {
          "output_type": "execute_result",
          "data": {
            "text/html": [
              "<div>\n",
              "<style scoped>\n",
              "    .dataframe tbody tr th:only-of-type {\n",
              "        vertical-align: middle;\n",
              "    }\n",
              "\n",
              "    .dataframe tbody tr th {\n",
              "        vertical-align: top;\n",
              "    }\n",
              "\n",
              "    .dataframe thead th {\n",
              "        text-align: right;\n",
              "    }\n",
              "</style>\n",
              "<table border=\"1\" class=\"dataframe\">\n",
              "  <thead>\n",
              "    <tr style=\"text-align: right;\">\n",
              "      <th></th>\n",
              "      <th>ID_ALUNO</th>\n",
              "      <th>ID_CURSO</th>\n",
              "      <th>CURSO</th>\n",
              "      <th>ULTIMO_SEMESTRE</th>\n",
              "      <th>PRIMEIRO_SEMESTRE</th>\n",
              "      <th>TIPO_INGRESSO</th>\n",
              "      <th>CODIGO</th>\n",
              "      <th>CR</th>\n",
              "      <th>ESTADO_CIVIL</th>\n",
              "      <th>SITUACAO_PERLET</th>\n",
              "      <th>IDADE</th>\n",
              "      <th>SEXO</th>\n",
              "      <th>DIAS SEM ACESSO PLATAFORMA</th>\n",
              "      <th>TOTAL_ESTUDOS_ORIENTADOS_ANEXADO</th>\n",
              "      <th>TOTAL_MENSGAGENS_CONTATOS_GERAL_PLATAFORMA</th>\n",
              "      <th>TOTAL_PARTICIPACAO_FORUM_AVALIATIVO</th>\n",
              "      <th>TOTAL_PARTICIPACAO_FORUM_FALE_TUTOR</th>\n",
              "      <th>TOTAL_TENTATIVAS_QUIZ</th>\n",
              "      <th>CH</th>\n",
              "      <th>MEDIA_NOTA</th>\n",
              "      <th>QTD_ATENDIMENTOS</th>\n",
              "      <th>DURACAO_TOTAL</th>\n",
              "    </tr>\n",
              "  </thead>\n",
              "  <tbody>\n",
              "    <tr>\n",
              "      <th>0</th>\n",
              "      <td>810066</td>\n",
              "      <td>370</td>\n",
              "      <td>Serviço Social</td>\n",
              "      <td>2020/2</td>\n",
              "      <td>2018/1</td>\n",
              "      <td>0</td>\n",
              "      <td>27225</td>\n",
              "      <td>9.29</td>\n",
              "      <td>0</td>\n",
              "      <td>0</td>\n",
              "      <td>35</td>\n",
              "      <td>0</td>\n",
              "      <td>10</td>\n",
              "      <td>2</td>\n",
              "      <td>0</td>\n",
              "      <td>3</td>\n",
              "      <td>0</td>\n",
              "      <td>8</td>\n",
              "      <td>420</td>\n",
              "      <td>8.000000</td>\n",
              "      <td>7</td>\n",
              "      <td>447</td>\n",
              "    </tr>\n",
              "    <tr>\n",
              "      <th>1</th>\n",
              "      <td>810679</td>\n",
              "      <td>458</td>\n",
              "      <td>Logística</td>\n",
              "      <td>2020/2</td>\n",
              "      <td>2019/1</td>\n",
              "      <td>1</td>\n",
              "      <td>27183</td>\n",
              "      <td>5.39</td>\n",
              "      <td>0</td>\n",
              "      <td>0</td>\n",
              "      <td>32</td>\n",
              "      <td>0</td>\n",
              "      <td>14</td>\n",
              "      <td>0</td>\n",
              "      <td>0</td>\n",
              "      <td>3</td>\n",
              "      <td>0</td>\n",
              "      <td>13</td>\n",
              "      <td>380</td>\n",
              "      <td>7.398438</td>\n",
              "      <td>4</td>\n",
              "      <td>109</td>\n",
              "    </tr>\n",
              "    <tr>\n",
              "      <th>2</th>\n",
              "      <td>813167</td>\n",
              "      <td>848</td>\n",
              "      <td>Pedagogia</td>\n",
              "      <td>2020/2</td>\n",
              "      <td>2020/2</td>\n",
              "      <td>2</td>\n",
              "      <td>27095</td>\n",
              "      <td>0.00</td>\n",
              "      <td>1</td>\n",
              "      <td>0</td>\n",
              "      <td>27</td>\n",
              "      <td>0</td>\n",
              "      <td>3</td>\n",
              "      <td>2</td>\n",
              "      <td>3</td>\n",
              "      <td>2</td>\n",
              "      <td>1</td>\n",
              "      <td>17</td>\n",
              "      <td>340</td>\n",
              "      <td>9.250000</td>\n",
              "      <td>0</td>\n",
              "      <td>0</td>\n",
              "    </tr>\n",
              "    <tr>\n",
              "      <th>3</th>\n",
              "      <td>813755</td>\n",
              "      <td>462</td>\n",
              "      <td>Serviço Social</td>\n",
              "      <td>2019/2</td>\n",
              "      <td>2019/1</td>\n",
              "      <td>0</td>\n",
              "      <td>27202</td>\n",
              "      <td>3.30</td>\n",
              "      <td>1</td>\n",
              "      <td>1</td>\n",
              "      <td>34</td>\n",
              "      <td>0</td>\n",
              "      <td>0</td>\n",
              "      <td>0</td>\n",
              "      <td>0</td>\n",
              "      <td>0</td>\n",
              "      <td>0</td>\n",
              "      <td>0</td>\n",
              "      <td>0</td>\n",
              "      <td>7.144531</td>\n",
              "      <td>0</td>\n",
              "      <td>0</td>\n",
              "    </tr>\n",
              "    <tr>\n",
              "      <th>4</th>\n",
              "      <td>820007</td>\n",
              "      <td>379</td>\n",
              "      <td>Letras</td>\n",
              "      <td>2020/1</td>\n",
              "      <td>2020/1</td>\n",
              "      <td>0</td>\n",
              "      <td>26955</td>\n",
              "      <td>0.00</td>\n",
              "      <td>1</td>\n",
              "      <td>1</td>\n",
              "      <td>30</td>\n",
              "      <td>0</td>\n",
              "      <td>0</td>\n",
              "      <td>0</td>\n",
              "      <td>0</td>\n",
              "      <td>0</td>\n",
              "      <td>0</td>\n",
              "      <td>0</td>\n",
              "      <td>0</td>\n",
              "      <td>7.144531</td>\n",
              "      <td>1</td>\n",
              "      <td>0</td>\n",
              "    </tr>\n",
              "  </tbody>\n",
              "</table>\n",
              "</div>"
            ],
            "text/plain": [
              "   ID_ALUNO  ID_CURSO  ... QTD_ATENDIMENTOS DURACAO_TOTAL\n",
              "0    810066       370  ...                7           447\n",
              "1    810679       458  ...                4           109\n",
              "2    813167       848  ...                0             0\n",
              "3    813755       462  ...                0             0\n",
              "4    820007       379  ...                1             0\n",
              "\n",
              "[5 rows x 22 columns]"
            ]
          },
          "metadata": {
            "tags": []
          },
          "execution_count": 87
        }
      ]
    },
    {
      "cell_type": "code",
      "metadata": {
        "colab": {
          "base_uri": "https://localhost:8080/"
        },
        "id": "gGiCwoxMTJ_3",
        "outputId": "1492269f-371e-4570-c891-ee032a87750a"
      },
      "source": [
        "validador.columns"
      ],
      "execution_count": null,
      "outputs": [
        {
          "output_type": "execute_result",
          "data": {
            "text/plain": [
              "Index(['ID_ALUNO', 'ID_CURSO', 'CURSO', 'ULTIMO_SEMESTRE', 'PRIMEIRO_SEMESTRE',\n",
              "       'TIPO_INGRESSO', 'CODIGO', 'CR', 'ESTADO_CIVIL', 'SITUACAO_PERLET',\n",
              "       'IDADE', 'SEXO', 'DIAS SEM ACESSO PLATAFORMA',\n",
              "       'TOTAL_ESTUDOS_ORIENTADOS_ANEXADO',\n",
              "       'TOTAL_MENSGAGENS_CONTATOS_GERAL_PLATAFORMA',\n",
              "       'TOTAL_PARTICIPACAO_FORUM_AVALIATIVO',\n",
              "       'TOTAL_PARTICIPACAO_FORUM_FALE_TUTOR', 'TOTAL_TENTATIVAS_QUIZ', 'CH',\n",
              "       'MEDIA_NOTA', 'QTD_ATENDIMENTOS', 'DURACAO_TOTAL'],\n",
              "      dtype='object')"
            ]
          },
          "metadata": {
            "tags": []
          },
          "execution_count": 88
        }
      ]
    },
    {
      "cell_type": "code",
      "metadata": {
        "colab": {
          "base_uri": "https://localhost:8080/"
        },
        "id": "LhNJNgdFmuv5",
        "outputId": "e2b851d6-8b08-4701-c848-93cbf2ce0944"
      },
      "source": [
        "x.columns"
      ],
      "execution_count": null,
      "outputs": [
        {
          "output_type": "execute_result",
          "data": {
            "text/plain": [
              "Index(['TIPO_INGRESSO', 'CR', 'ESTADO_CIVIL', 'IDADE',\n",
              "       'DIAS SEM ACESSO PLATAFORMA', 'TOTAL_ESTUDOS_ORIENTADOS_ANEXADO',\n",
              "       'TOTAL_MENSGAGENS_CONTATOS_GERAL_PLATAFORMA',\n",
              "       'TOTAL_PARTICIPACAO_FORUM_AVALIATIVO',\n",
              "       'TOTAL_PARTICIPACAO_FORUM_FALE_TUTOR', 'TOTAL_TENTATIVAS_QUIZ',\n",
              "       'MEDIA_NOTA', 'QTD_ATENDIMENTOS', 'DURACAO_TOTAL', 'SEXO'],\n",
              "      dtype='object')"
            ]
          },
          "metadata": {
            "tags": []
          },
          "execution_count": 89
        }
      ]
    },
    {
      "cell_type": "code",
      "metadata": {
        "id": "a2a_t768S3-y"
      },
      "source": [
        "# Descartar colunas textuais e identificador\n",
        "identificador = validador[['ID_ALUNO','ID_CURSO']]\n",
        "validador.drop(['CURSO','ULTIMO_SEMESTRE','PRIMEIRO_SEMESTRE','CODIGO','SITUACAO_PERLET','ID_ALUNO','ID_CURSO','CH'], axis=1, inplace=True)\n",
        "\n",
        "# Imputar valores nulos usando padrões do conjunto de treino\n",
        "#validation.loc[validation['Age'].isnull(), 'Age'] = 29.97"
      ],
      "execution_count": null,
      "outputs": []
    },
    {
      "cell_type": "code",
      "metadata": {
        "id": "KCQFAqfrU8mo"
      },
      "source": [
        "pred = clasificador_svm.predict_proba(validador)\n",
        "pred = pred[:, 0]"
      ],
      "execution_count": null,
      "outputs": []
    },
    {
      "cell_type": "code",
      "metadata": {
        "colab": {
          "base_uri": "https://localhost:8080/",
          "height": 1000
        },
        "id": "dNYTFFcGb9U2",
        "outputId": "5ea7c14f-3343-47fc-aabe-c663a47556e3"
      },
      "source": [
        "resultado = pd.concat([identificador, pd.DataFrame(pred, columns=['PROBABILIDADE'])], axis=1)\n",
        "resultado.head(50)"
      ],
      "execution_count": null,
      "outputs": [
        {
          "output_type": "execute_result",
          "data": {
            "text/html": [
              "<div>\n",
              "<style scoped>\n",
              "    .dataframe tbody tr th:only-of-type {\n",
              "        vertical-align: middle;\n",
              "    }\n",
              "\n",
              "    .dataframe tbody tr th {\n",
              "        vertical-align: top;\n",
              "    }\n",
              "\n",
              "    .dataframe thead th {\n",
              "        text-align: right;\n",
              "    }\n",
              "</style>\n",
              "<table border=\"1\" class=\"dataframe\">\n",
              "  <thead>\n",
              "    <tr style=\"text-align: right;\">\n",
              "      <th></th>\n",
              "      <th>ID_ALUNO</th>\n",
              "      <th>ID_CURSO</th>\n",
              "      <th>PROBABILIDADE</th>\n",
              "    </tr>\n",
              "  </thead>\n",
              "  <tbody>\n",
              "    <tr>\n",
              "      <th>0</th>\n",
              "      <td>810066</td>\n",
              "      <td>370</td>\n",
              "      <td>0.576511</td>\n",
              "    </tr>\n",
              "    <tr>\n",
              "      <th>1</th>\n",
              "      <td>810679</td>\n",
              "      <td>458</td>\n",
              "      <td>0.576511</td>\n",
              "    </tr>\n",
              "    <tr>\n",
              "      <th>2</th>\n",
              "      <td>813167</td>\n",
              "      <td>848</td>\n",
              "      <td>0.576315</td>\n",
              "    </tr>\n",
              "    <tr>\n",
              "      <th>3</th>\n",
              "      <td>813755</td>\n",
              "      <td>462</td>\n",
              "      <td>0.556137</td>\n",
              "    </tr>\n",
              "    <tr>\n",
              "      <th>4</th>\n",
              "      <td>820007</td>\n",
              "      <td>379</td>\n",
              "      <td>0.609090</td>\n",
              "    </tr>\n",
              "    <tr>\n",
              "      <th>5</th>\n",
              "      <td>830152</td>\n",
              "      <td>688</td>\n",
              "      <td>0.576511</td>\n",
              "    </tr>\n",
              "    <tr>\n",
              "      <th>6</th>\n",
              "      <td>850285</td>\n",
              "      <td>375</td>\n",
              "      <td>0.576511</td>\n",
              "    </tr>\n",
              "    <tr>\n",
              "      <th>7</th>\n",
              "      <td>1010883</td>\n",
              "      <td>370</td>\n",
              "      <td>0.576511</td>\n",
              "    </tr>\n",
              "    <tr>\n",
              "      <th>8</th>\n",
              "      <td>1011200</td>\n",
              "      <td>376</td>\n",
              "      <td>0.576511</td>\n",
              "    </tr>\n",
              "    <tr>\n",
              "      <th>9</th>\n",
              "      <td>1011209</td>\n",
              "      <td>450</td>\n",
              "      <td>0.576511</td>\n",
              "    </tr>\n",
              "    <tr>\n",
              "      <th>10</th>\n",
              "      <td>1111757</td>\n",
              "      <td>370</td>\n",
              "      <td>0.576511</td>\n",
              "    </tr>\n",
              "    <tr>\n",
              "      <th>11</th>\n",
              "      <td>1112269</td>\n",
              "      <td>455</td>\n",
              "      <td>0.576511</td>\n",
              "    </tr>\n",
              "    <tr>\n",
              "      <th>12</th>\n",
              "      <td>1112298</td>\n",
              "      <td>543</td>\n",
              "      <td>0.576511</td>\n",
              "    </tr>\n",
              "    <tr>\n",
              "      <th>13</th>\n",
              "      <td>1112315</td>\n",
              "      <td>451</td>\n",
              "      <td>0.576511</td>\n",
              "    </tr>\n",
              "    <tr>\n",
              "      <th>14</th>\n",
              "      <td>1112332</td>\n",
              "      <td>460</td>\n",
              "      <td>0.559477</td>\n",
              "    </tr>\n",
              "    <tr>\n",
              "      <th>15</th>\n",
              "      <td>1112430</td>\n",
              "      <td>451</td>\n",
              "      <td>0.576511</td>\n",
              "    </tr>\n",
              "    <tr>\n",
              "      <th>16</th>\n",
              "      <td>1112470</td>\n",
              "      <td>369</td>\n",
              "      <td>0.576511</td>\n",
              "    </tr>\n",
              "    <tr>\n",
              "      <th>17</th>\n",
              "      <td>1112846</td>\n",
              "      <td>366</td>\n",
              "      <td>0.576511</td>\n",
              "    </tr>\n",
              "    <tr>\n",
              "      <th>18</th>\n",
              "      <td>1112960</td>\n",
              "      <td>451</td>\n",
              "      <td>0.576511</td>\n",
              "    </tr>\n",
              "    <tr>\n",
              "      <th>19</th>\n",
              "      <td>1113054</td>\n",
              "      <td>368</td>\n",
              "      <td>0.576511</td>\n",
              "    </tr>\n",
              "    <tr>\n",
              "      <th>20</th>\n",
              "      <td>1113223</td>\n",
              "      <td>447</td>\n",
              "      <td>0.576511</td>\n",
              "    </tr>\n",
              "    <tr>\n",
              "      <th>21</th>\n",
              "      <td>1213564</td>\n",
              "      <td>283</td>\n",
              "      <td>0.576511</td>\n",
              "    </tr>\n",
              "    <tr>\n",
              "      <th>22</th>\n",
              "      <td>1213776</td>\n",
              "      <td>370</td>\n",
              "      <td>0.576511</td>\n",
              "    </tr>\n",
              "    <tr>\n",
              "      <th>23</th>\n",
              "      <td>1213930</td>\n",
              "      <td>451</td>\n",
              "      <td>0.576511</td>\n",
              "    </tr>\n",
              "    <tr>\n",
              "      <th>24</th>\n",
              "      <td>1214162</td>\n",
              "      <td>284</td>\n",
              "      <td>0.576511</td>\n",
              "    </tr>\n",
              "    <tr>\n",
              "      <th>25</th>\n",
              "      <td>1214218</td>\n",
              "      <td>328</td>\n",
              "      <td>0.576511</td>\n",
              "    </tr>\n",
              "    <tr>\n",
              "      <th>26</th>\n",
              "      <td>1214314</td>\n",
              "      <td>447</td>\n",
              "      <td>0.576511</td>\n",
              "    </tr>\n",
              "    <tr>\n",
              "      <th>27</th>\n",
              "      <td>1214421</td>\n",
              "      <td>457</td>\n",
              "      <td>0.565417</td>\n",
              "    </tr>\n",
              "    <tr>\n",
              "      <th>28</th>\n",
              "      <td>1214424</td>\n",
              "      <td>375</td>\n",
              "      <td>0.576511</td>\n",
              "    </tr>\n",
              "    <tr>\n",
              "      <th>29</th>\n",
              "      <td>1214469</td>\n",
              "      <td>450</td>\n",
              "      <td>0.576511</td>\n",
              "    </tr>\n",
              "    <tr>\n",
              "      <th>30</th>\n",
              "      <td>1214615</td>\n",
              "      <td>544</td>\n",
              "      <td>0.576511</td>\n",
              "    </tr>\n",
              "    <tr>\n",
              "      <th>31</th>\n",
              "      <td>1214616</td>\n",
              "      <td>541</td>\n",
              "      <td>0.576511</td>\n",
              "    </tr>\n",
              "    <tr>\n",
              "      <th>32</th>\n",
              "      <td>1214640</td>\n",
              "      <td>830</td>\n",
              "      <td>0.576511</td>\n",
              "    </tr>\n",
              "    <tr>\n",
              "      <th>33</th>\n",
              "      <td>1214673</td>\n",
              "      <td>370</td>\n",
              "      <td>0.576511</td>\n",
              "    </tr>\n",
              "    <tr>\n",
              "      <th>34</th>\n",
              "      <td>1223293</td>\n",
              "      <td>455</td>\n",
              "      <td>0.581328</td>\n",
              "    </tr>\n",
              "    <tr>\n",
              "      <th>35</th>\n",
              "      <td>1223301</td>\n",
              "      <td>682</td>\n",
              "      <td>0.576511</td>\n",
              "    </tr>\n",
              "    <tr>\n",
              "      <th>36</th>\n",
              "      <td>1300435</td>\n",
              "      <td>540</td>\n",
              "      <td>0.576511</td>\n",
              "    </tr>\n",
              "    <tr>\n",
              "      <th>37</th>\n",
              "      <td>1300448</td>\n",
              "      <td>850</td>\n",
              "      <td>0.576511</td>\n",
              "    </tr>\n",
              "    <tr>\n",
              "      <th>38</th>\n",
              "      <td>1300502</td>\n",
              "      <td>455</td>\n",
              "      <td>0.557740</td>\n",
              "    </tr>\n",
              "    <tr>\n",
              "      <th>39</th>\n",
              "      <td>1314834</td>\n",
              "      <td>869</td>\n",
              "      <td>0.576511</td>\n",
              "    </tr>\n",
              "    <tr>\n",
              "      <th>40</th>\n",
              "      <td>1314925</td>\n",
              "      <td>448</td>\n",
              "      <td>0.576511</td>\n",
              "    </tr>\n",
              "    <tr>\n",
              "      <th>41</th>\n",
              "      <td>1314959</td>\n",
              "      <td>553</td>\n",
              "      <td>0.576511</td>\n",
              "    </tr>\n",
              "    <tr>\n",
              "      <th>42</th>\n",
              "      <td>1315001</td>\n",
              "      <td>283</td>\n",
              "      <td>0.576511</td>\n",
              "    </tr>\n",
              "    <tr>\n",
              "      <th>43</th>\n",
              "      <td>1315001</td>\n",
              "      <td>540</td>\n",
              "      <td>0.576511</td>\n",
              "    </tr>\n",
              "    <tr>\n",
              "      <th>44</th>\n",
              "      <td>1315001</td>\n",
              "      <td>697</td>\n",
              "      <td>0.576511</td>\n",
              "    </tr>\n",
              "    <tr>\n",
              "      <th>45</th>\n",
              "      <td>1315150</td>\n",
              "      <td>455</td>\n",
              "      <td>0.576511</td>\n",
              "    </tr>\n",
              "    <tr>\n",
              "      <th>46</th>\n",
              "      <td>1315364</td>\n",
              "      <td>681</td>\n",
              "      <td>0.576511</td>\n",
              "    </tr>\n",
              "    <tr>\n",
              "      <th>47</th>\n",
              "      <td>1325516</td>\n",
              "      <td>846</td>\n",
              "      <td>0.576511</td>\n",
              "    </tr>\n",
              "    <tr>\n",
              "      <th>48</th>\n",
              "      <td>1325539</td>\n",
              "      <td>453</td>\n",
              "      <td>0.576511</td>\n",
              "    </tr>\n",
              "    <tr>\n",
              "      <th>49</th>\n",
              "      <td>1325596</td>\n",
              "      <td>455</td>\n",
              "      <td>0.576511</td>\n",
              "    </tr>\n",
              "  </tbody>\n",
              "</table>\n",
              "</div>"
            ],
            "text/plain": [
              "    ID_ALUNO  ID_CURSO  PROBABILIDADE\n",
              "0     810066       370       0.576511\n",
              "1     810679       458       0.576511\n",
              "2     813167       848       0.576315\n",
              "3     813755       462       0.556137\n",
              "4     820007       379       0.609090\n",
              "5     830152       688       0.576511\n",
              "6     850285       375       0.576511\n",
              "7    1010883       370       0.576511\n",
              "8    1011200       376       0.576511\n",
              "9    1011209       450       0.576511\n",
              "10   1111757       370       0.576511\n",
              "11   1112269       455       0.576511\n",
              "12   1112298       543       0.576511\n",
              "13   1112315       451       0.576511\n",
              "14   1112332       460       0.559477\n",
              "15   1112430       451       0.576511\n",
              "16   1112470       369       0.576511\n",
              "17   1112846       366       0.576511\n",
              "18   1112960       451       0.576511\n",
              "19   1113054       368       0.576511\n",
              "20   1113223       447       0.576511\n",
              "21   1213564       283       0.576511\n",
              "22   1213776       370       0.576511\n",
              "23   1213930       451       0.576511\n",
              "24   1214162       284       0.576511\n",
              "25   1214218       328       0.576511\n",
              "26   1214314       447       0.576511\n",
              "27   1214421       457       0.565417\n",
              "28   1214424       375       0.576511\n",
              "29   1214469       450       0.576511\n",
              "30   1214615       544       0.576511\n",
              "31   1214616       541       0.576511\n",
              "32   1214640       830       0.576511\n",
              "33   1214673       370       0.576511\n",
              "34   1223293       455       0.581328\n",
              "35   1223301       682       0.576511\n",
              "36   1300435       540       0.576511\n",
              "37   1300448       850       0.576511\n",
              "38   1300502       455       0.557740\n",
              "39   1314834       869       0.576511\n",
              "40   1314925       448       0.576511\n",
              "41   1314959       553       0.576511\n",
              "42   1315001       283       0.576511\n",
              "43   1315001       540       0.576511\n",
              "44   1315001       697       0.576511\n",
              "45   1315150       455       0.576511\n",
              "46   1315364       681       0.576511\n",
              "47   1325516       846       0.576511\n",
              "48   1325539       453       0.576511\n",
              "49   1325596       455       0.576511"
            ]
          },
          "metadata": {
            "tags": []
          },
          "execution_count": 92
        }
      ]
    },
    {
      "cell_type": "markdown",
      "metadata": {
        "id": "IvWrjwH0ci5M"
      },
      "source": [
        "Convertendos as variáveis numéricas para categóricas"
      ]
    },
    {
      "cell_type": "code",
      "metadata": {
        "id": "OTKuN3tvYiMY"
      },
      "source": [
        "class_TIPOINGRESSO = {\n",
        "     0 : 'Novo Curso Superior',\n",
        "     1 : 'Processo Seletivo',\n",
        "     2 : 'Histórico',\n",
        "     3 : 'Transferência' ,\n",
        "     4 : 'Reingresso' ,\n",
        "     5 : 'ENEM' ,\n",
        "     6 : 'Prouni' ,\n",
        "     7 : 'Aluno Especial' ,\n",
        "     8 : 'Encceja' ,\n",
        "     9 : 'Não informado' ,\n",
        "     10: 'Reabertura de Matrícula' ,\n",
        "     11: 'Nossa Bolsa' \n",
        "}\n",
        "class_ESTADOCIVIL = {\n",
        "    0 : 'Casado' ,\n",
        "    1 : 'Solteiro' ,\n",
        "    2 : 'Divorciado' ,\n",
        "    3 : 'Não informado' ,\n",
        "    4 : 'Desquitado' ,\n",
        "    5 : 'Outros' ,\n",
        "    6 : 'União Estável' ,\n",
        "    7 : 'Separado' ,\n",
        "    8 : 'Viúvo'  \n",
        "}\n",
        "class_SEXO = {\n",
        "    0 : 'M' ,\n",
        "    1 : 'F' \n",
        "}\n",
        "class_STATUS = {\n",
        "    0 : 'Matriculado',\n",
        "    1 : 'Evadido'\n",
        "}\n",
        "md_copy['TIPO_MATRICULA'] = md_copy['TIPO_INGRESSO'].map(class_TIPOINGRESSO)\n",
        "md_copy['ESTADO_CIVIL'] = md_copy['ESTADO_CIVIL'].map(class_ESTADOCIVIL)\n",
        "md_copy['SEXO'] = md_copy['SEXO'].map(class_SEXO)\n",
        "md_copy['SITUACAO_PERLET'] = md_copy['SITUACAO_PERLET'].map(class_STATUS)\n",
        "md_copy.drop(columns='ESTADO_CIVIL',inplace=True)\n",
        "md_copy.drop(columns='TIPO_INGRESSO',inplace=True)\n",
        "final_md = pd.merge(md_copy,resultado,how='left',on=['ID_ALUNO','ID_CURSO'])\n",
        "final_md = final_md[final_md['SITUACAO_PERLET']=='Matriculado']"
      ],
      "execution_count": null,
      "outputs": []
    },
    {
      "cell_type": "markdown",
      "metadata": {
        "id": "eB5nkh22cpX8"
      },
      "source": [
        "Visualizando a probabilidade gerada por aluno"
      ]
    },
    {
      "cell_type": "code",
      "metadata": {
        "colab": {
          "base_uri": "https://localhost:8080/",
          "height": 334
        },
        "id": "cnJyCrO_bdZW",
        "outputId": "143ff199-1c78-45ad-e8f7-6e6450976ab4"
      },
      "source": [
        "final_md.head()"
      ],
      "execution_count": null,
      "outputs": [
        {
          "output_type": "execute_result",
          "data": {
            "text/html": [
              "<div>\n",
              "<style scoped>\n",
              "    .dataframe tbody tr th:only-of-type {\n",
              "        vertical-align: middle;\n",
              "    }\n",
              "\n",
              "    .dataframe tbody tr th {\n",
              "        vertical-align: top;\n",
              "    }\n",
              "\n",
              "    .dataframe thead th {\n",
              "        text-align: right;\n",
              "    }\n",
              "</style>\n",
              "<table border=\"1\" class=\"dataframe\">\n",
              "  <thead>\n",
              "    <tr style=\"text-align: right;\">\n",
              "      <th></th>\n",
              "      <th>ID_ALUNO</th>\n",
              "      <th>ID_CURSO</th>\n",
              "      <th>CURSO</th>\n",
              "      <th>ULTIMO_SEMESTRE</th>\n",
              "      <th>PRIMEIRO_SEMESTRE</th>\n",
              "      <th>CODIGO</th>\n",
              "      <th>CR</th>\n",
              "      <th>SITUACAO_PERLET</th>\n",
              "      <th>IDADE</th>\n",
              "      <th>SEXO</th>\n",
              "      <th>DIAS SEM ACESSO PLATAFORMA</th>\n",
              "      <th>TOTAL_ESTUDOS_ORIENTADOS_ANEXADO</th>\n",
              "      <th>TOTAL_MENSGAGENS_CONTATOS_GERAL_PLATAFORMA</th>\n",
              "      <th>TOTAL_PARTICIPACAO_FORUM_AVALIATIVO</th>\n",
              "      <th>TOTAL_PARTICIPACAO_FORUM_FALE_TUTOR</th>\n",
              "      <th>TOTAL_TENTATIVAS_QUIZ</th>\n",
              "      <th>CH</th>\n",
              "      <th>MEDIA_NOTA</th>\n",
              "      <th>QTD_ATENDIMENTOS</th>\n",
              "      <th>DURACAO_TOTAL</th>\n",
              "      <th>TIPO_MATRICULA</th>\n",
              "      <th>PROBABILIDADE</th>\n",
              "    </tr>\n",
              "  </thead>\n",
              "  <tbody>\n",
              "    <tr>\n",
              "      <th>0</th>\n",
              "      <td>810066</td>\n",
              "      <td>370</td>\n",
              "      <td>Serviço Social</td>\n",
              "      <td>2020/2</td>\n",
              "      <td>2018/1</td>\n",
              "      <td>27225</td>\n",
              "      <td>9.29</td>\n",
              "      <td>Matriculado</td>\n",
              "      <td>35</td>\n",
              "      <td>M</td>\n",
              "      <td>10</td>\n",
              "      <td>2</td>\n",
              "      <td>0</td>\n",
              "      <td>3</td>\n",
              "      <td>0</td>\n",
              "      <td>8</td>\n",
              "      <td>420</td>\n",
              "      <td>8.000000</td>\n",
              "      <td>7</td>\n",
              "      <td>447</td>\n",
              "      <td>Novo Curso Superior</td>\n",
              "      <td>0.576511</td>\n",
              "    </tr>\n",
              "    <tr>\n",
              "      <th>1</th>\n",
              "      <td>810679</td>\n",
              "      <td>458</td>\n",
              "      <td>Logística</td>\n",
              "      <td>2020/2</td>\n",
              "      <td>2019/1</td>\n",
              "      <td>27183</td>\n",
              "      <td>5.39</td>\n",
              "      <td>Matriculado</td>\n",
              "      <td>32</td>\n",
              "      <td>M</td>\n",
              "      <td>14</td>\n",
              "      <td>0</td>\n",
              "      <td>0</td>\n",
              "      <td>3</td>\n",
              "      <td>0</td>\n",
              "      <td>13</td>\n",
              "      <td>380</td>\n",
              "      <td>7.398438</td>\n",
              "      <td>4</td>\n",
              "      <td>109</td>\n",
              "      <td>Processo Seletivo</td>\n",
              "      <td>0.576511</td>\n",
              "    </tr>\n",
              "    <tr>\n",
              "      <th>2</th>\n",
              "      <td>813167</td>\n",
              "      <td>848</td>\n",
              "      <td>Pedagogia</td>\n",
              "      <td>2020/2</td>\n",
              "      <td>2020/2</td>\n",
              "      <td>27095</td>\n",
              "      <td>0.00</td>\n",
              "      <td>Matriculado</td>\n",
              "      <td>27</td>\n",
              "      <td>M</td>\n",
              "      <td>3</td>\n",
              "      <td>2</td>\n",
              "      <td>3</td>\n",
              "      <td>2</td>\n",
              "      <td>1</td>\n",
              "      <td>17</td>\n",
              "      <td>340</td>\n",
              "      <td>9.250000</td>\n",
              "      <td>0</td>\n",
              "      <td>0</td>\n",
              "      <td>Histórico</td>\n",
              "      <td>0.576315</td>\n",
              "    </tr>\n",
              "    <tr>\n",
              "      <th>5</th>\n",
              "      <td>830152</td>\n",
              "      <td>688</td>\n",
              "      <td>Gestão de Recursos Humanos</td>\n",
              "      <td>2020/2</td>\n",
              "      <td>2020/2</td>\n",
              "      <td>27177</td>\n",
              "      <td>0.00</td>\n",
              "      <td>Matriculado</td>\n",
              "      <td>45</td>\n",
              "      <td>M</td>\n",
              "      <td>6</td>\n",
              "      <td>1</td>\n",
              "      <td>0</td>\n",
              "      <td>1</td>\n",
              "      <td>0</td>\n",
              "      <td>11</td>\n",
              "      <td>860</td>\n",
              "      <td>8.210938</td>\n",
              "      <td>3</td>\n",
              "      <td>7570</td>\n",
              "      <td>Novo Curso Superior</td>\n",
              "      <td>0.576511</td>\n",
              "    </tr>\n",
              "    <tr>\n",
              "      <th>7</th>\n",
              "      <td>1010883</td>\n",
              "      <td>370</td>\n",
              "      <td>Serviço Social</td>\n",
              "      <td>2020/2</td>\n",
              "      <td>2018/1</td>\n",
              "      <td>13682</td>\n",
              "      <td>7.52</td>\n",
              "      <td>Matriculado</td>\n",
              "      <td>48</td>\n",
              "      <td>M</td>\n",
              "      <td>7</td>\n",
              "      <td>2</td>\n",
              "      <td>0</td>\n",
              "      <td>0</td>\n",
              "      <td>0</td>\n",
              "      <td>8</td>\n",
              "      <td>420</td>\n",
              "      <td>6.398438</td>\n",
              "      <td>6</td>\n",
              "      <td>354</td>\n",
              "      <td>Processo Seletivo</td>\n",
              "      <td>0.576511</td>\n",
              "    </tr>\n",
              "  </tbody>\n",
              "</table>\n",
              "</div>"
            ],
            "text/plain": [
              "   ID_ALUNO  ID_CURSO  ...       TIPO_MATRICULA PROBABILIDADE\n",
              "0    810066       370  ...  Novo Curso Superior      0.576511\n",
              "1    810679       458  ...    Processo Seletivo      0.576511\n",
              "2    813167       848  ...            Histórico      0.576315\n",
              "5    830152       688  ...  Novo Curso Superior      0.576511\n",
              "7   1010883       370  ...    Processo Seletivo      0.576511\n",
              "\n",
              "[5 rows x 22 columns]"
            ]
          },
          "metadata": {
            "tags": []
          },
          "execution_count": 97
        }
      ]
    },
    {
      "cell_type": "markdown",
      "metadata": {
        "id": "N_bhysZtcvkH"
      },
      "source": [
        "importando os resultados para uma planilha do EXCEL"
      ]
    },
    {
      "cell_type": "code",
      "metadata": {
        "id": "4LzY5t6JcLHs"
      },
      "source": [
        "#Gerando output com os registros previstos de toda a base\n",
        "#final_md.to_excel('/content/gdrive/MyDrive/TCC/output.xlsx')"
      ],
      "execution_count": null,
      "outputs": []
    }
  ]
}